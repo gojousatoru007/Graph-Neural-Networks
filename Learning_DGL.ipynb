{
 "cells": [
  {
   "cell_type": "markdown",
   "id": "57d60165-632d-4ff2-a1e5-ef0348159eb3",
   "metadata": {},
   "source": [
    "# Learning to use DGL for Graphs"
   ]
  },
  {
   "cell_type": "code",
   "execution_count": 70,
   "id": "8c27f4f1-75cd-4132-b3a3-f1a98ce5d31b",
   "metadata": {},
   "outputs": [],
   "source": [
    "import dgl\n",
    "import torch"
   ]
  },
  {
   "cell_type": "markdown",
   "id": "4f555ba1-b0ad-4b22-a5b2-86bba1c22fae",
   "metadata": {},
   "source": [
    "## (Directed) Homogeneous Graph using DGL"
   ]
  },
  {
   "cell_type": "code",
   "execution_count": 71,
   "id": "eaa9ac85-0f28-4307-8c93-81177a4429fc",
   "metadata": {},
   "outputs": [
    {
     "name": "stdout",
     "output_type": "stream",
     "text": [
      "Graph(num_nodes=5, num_edges=8,\n",
      "      ndata_schemes={}\n",
      "      edata_schemes={})\n"
     ]
    }
   ],
   "source": [
    "# in dgl, everything is 0 indexed and we can represent graphs using src->dest list\n",
    "# every edge having src node id -> dest node id\n",
    "\n",
    "src_node_ids = torch.tensor([0, 0, 0, 1, 1, 2, 2, 3])\n",
    "dst_node_ids = torch.tensor([1, 2, 4, 2, 3, 3, 4, 4])\n",
    "\n",
    "\n",
    "dir_h_graph = dgl.graph((src_node_ids, dst_node_ids)) # data == (Tensor, Tensor) (Src, Dest)\n",
    "\n",
    "print(dir_h_graph)"
   ]
  },
  {
   "cell_type": "code",
   "execution_count": 72,
   "id": "2eac4fc7-f083-4d58-835c-b8ed44668a21",
   "metadata": {},
   "outputs": [
    {
     "data": {
      "text/plain": [
       "tensor([0, 1, 2, 3, 4])"
      ]
     },
     "execution_count": 72,
     "metadata": {},
     "output_type": "execute_result"
    }
   ],
   "source": [
    "# checking for nodes and edges\n",
    "dir_h_graph.nodes()\n"
   ]
  },
  {
   "cell_type": "code",
   "execution_count": 73,
   "id": "eae19e34-fa78-496a-874c-4da6131d9e96",
   "metadata": {},
   "outputs": [
    {
     "data": {
      "text/plain": [
       "(tensor([0, 0, 0, 1, 1, 2, 2, 3]), tensor([1, 2, 4, 2, 3, 3, 4, 4]))"
      ]
     },
     "execution_count": 73,
     "metadata": {},
     "output_type": "execute_result"
    }
   ],
   "source": [
    "dir_h_graph.edges()"
   ]
  },
  {
   "cell_type": "code",
   "execution_count": 74,
   "id": "396550e1-de63-46b1-9136-abfa832db310",
   "metadata": {},
   "outputs": [
    {
     "data": {
      "text/plain": [
       "(tensor([0, 0, 0, 1, 1, 2, 2, 3]),\n",
       " tensor([1, 2, 4, 2, 3, 3, 4, 4]),\n",
       " tensor([0, 1, 2, 3, 4, 5, 6, 7]))"
      ]
     },
     "execution_count": 74,
     "metadata": {},
     "output_type": "execute_result"
    }
   ],
   "source": [
    "dir_h_graph.edges(form='all') # along with the edge id's\n",
    "\n",
    "# the third tensor refers to the Edge id's"
   ]
  },
  {
   "cell_type": "markdown",
   "id": "7863e8ea-da9b-4a10-928d-ef572bff4022",
   "metadata": {},
   "source": [
    "---\n",
    "## UnDirected (or BiDirected Graph)"
   ]
  },
  {
   "cell_type": "code",
   "execution_count": 75,
   "id": "e1521ea2-89aa-40c5-8018-7634a200db39",
   "metadata": {},
   "outputs": [
    {
     "name": "stdout",
     "output_type": "stream",
     "text": [
      "Graph(num_nodes=5, num_edges=16,\n",
      "      ndata_schemes={}\n",
      "      edata_schemes={})\n"
     ]
    }
   ],
   "source": [
    "src_node_ids = torch.tensor([0, 0, 0, 1, 1, 2, 2, 3, 1, 2, 4, 2, 3, 3, 4, 4])\n",
    "dst_node_ids = torch.tensor([1, 2, 4, 2, 3, 3, 4, 4, 0, 0, 0, 1, 1, 2, 2, 3])\n",
    "\n",
    "undir_h_graph = dgl.graph((src_node_ids, dst_node_ids)) # data == (Tensor, Tensor) (Src, Dest)\n",
    "\n",
    "print(undir_h_graph)"
   ]
  },
  {
   "cell_type": "code",
   "execution_count": 76,
   "id": "f0f5226c-0fdb-4d7e-a9ea-068a33203924",
   "metadata": {},
   "outputs": [
    {
     "name": "stdout",
     "output_type": "stream",
     "text": [
      "Graph(num_nodes=5, num_edges=16,\n",
      "      ndata_schemes={}\n",
      "      edata_schemes={})\n"
     ]
    }
   ],
   "source": [
    "# applying bidir function to directed graph\n",
    "\n",
    "undir_h_graph_new = dgl.to_bidirected(dir_h_graph)\n",
    "print(undir_h_graph_new)"
   ]
  },
  {
   "cell_type": "markdown",
   "id": "9b18b106-bb8c-4041-bcd8-896528f63c40",
   "metadata": {},
   "source": [
    "---\n",
    "## idtype"
   ]
  },
  {
   "cell_type": "code",
   "execution_count": 77,
   "id": "481a6781-ba22-4cdc-b089-d079c95d828d",
   "metadata": {},
   "outputs": [
    {
     "data": {
      "text/plain": [
       "torch.int64"
      ]
     },
     "execution_count": 77,
     "metadata": {},
     "output_type": "execute_result"
    }
   ],
   "source": [
    "undir_h_graph.idtype # 32-bit or 64-bit tensors (default = 64-bit integer tensors)"
   ]
  },
  {
   "cell_type": "code",
   "execution_count": 78,
   "id": "38a264c6-ffe1-4fea-ac17-aa944c105e03",
   "metadata": {},
   "outputs": [],
   "source": [
    "# 32 bit integers -> 2^32 numbers : 0 to 2^32 - 1 representations\n",
    "# no. of nodes exceeding this number (2^32) then we can use the 64-bit integers\n",
    "# default is 64-bit integers (always good to change acc. to the number of nodes we have in our graph)"
   ]
  },
  {
   "cell_type": "code",
   "execution_count": 79,
   "id": "ce565daf-586a-4117-abba-8be0684496b9",
   "metadata": {},
   "outputs": [
    {
     "data": {
      "text/plain": [
       "torch.int32"
      ]
     },
     "execution_count": 79,
     "metadata": {},
     "output_type": "execute_result"
    }
   ],
   "source": [
    "# Changing the type of a graph\n",
    "\n",
    "undir_h_graph_32 = undir_h_graph.int()\n",
    "\n",
    "undir_h_graph_32.idtype"
   ]
  },
  {
   "cell_type": "code",
   "execution_count": 80,
   "id": "09afd2e6-e2d8-4ecb-a751-5c280e2f4af0",
   "metadata": {},
   "outputs": [
    {
     "data": {
      "text/plain": [
       "torch.int64"
      ]
     },
     "execution_count": 80,
     "metadata": {},
     "output_type": "execute_result"
    }
   ],
   "source": [
    "undir_h_graph_64 = undir_h_graph_32.long()\n",
    "\n",
    "undir_h_graph_64.idtype"
   ]
  },
  {
   "cell_type": "markdown",
   "id": "ba2fd223-b2f0-4a88-ba7f-1e1467720948",
   "metadata": {},
   "source": [
    "It is good to use relevant tensors as 32 bit integers are very fast... we only use 64 bit integers when we really need it!"
   ]
  },
  {
   "cell_type": "markdown",
   "id": "58ba9938-4eb5-4b7e-97c7-b80dafabe4d3",
   "metadata": {},
   "source": [
    "## Creating DGL Graphs using Python Iterables & Numpy Arrays"
   ]
  },
  {
   "cell_type": "code",
   "execution_count": 81,
   "id": "88e411a9-11dd-46bd-ae75-8e1cb6d88283",
   "metadata": {},
   "outputs": [
    {
     "name": "stdout",
     "output_type": "stream",
     "text": [
      "Graph(num_nodes=5, num_edges=8,\n",
      "      ndata_schemes={}\n",
      "      edata_schemes={})\n"
     ]
    }
   ],
   "source": [
    "import numpy\n",
    "\n",
    "src_node_ids = numpy.array([0, 0, 0, 1, 1, 2, 2, 3])\n",
    "dst_node_ids = numpy.array([1, 2, 4, 2, 3, 3, 4, 4])\n",
    "\n",
    "graph_numpy = dgl.graph((src_node_ids, dst_node_ids))\n",
    "\n",
    "print(graph_numpy)"
   ]
  },
  {
   "cell_type": "code",
   "execution_count": 82,
   "id": "fcb0e03c-26d1-4a71-9232-ab781e51387a",
   "metadata": {},
   "outputs": [
    {
     "data": {
      "text/plain": [
       "tensor([0, 1, 2, 3, 4])"
      ]
     },
     "execution_count": 82,
     "metadata": {},
     "output_type": "execute_result"
    }
   ],
   "source": [
    "graph_numpy.nodes() "
   ]
  },
  {
   "cell_type": "markdown",
   "id": "28460d91-362a-429d-8e90-61abc4b86903",
   "metadata": {},
   "source": [
    "giving out tensors ..."
   ]
  },
  {
   "cell_type": "code",
   "execution_count": 83,
   "id": "b0e15e23-97e0-4477-a653-5557aee5f7fe",
   "metadata": {},
   "outputs": [
    {
     "data": {
      "text/plain": [
       "(tensor([0, 0, 0, 1, 1, 2, 2, 3]), tensor([1, 2, 4, 2, 3, 3, 4, 4]))"
      ]
     },
     "execution_count": 83,
     "metadata": {},
     "output_type": "execute_result"
    }
   ],
   "source": [
    "graph_numpy.edges()"
   ]
  },
  {
   "cell_type": "markdown",
   "id": "37feff2a-25cd-4581-b3d2-2bf537709510",
   "metadata": {},
   "source": [
    "even if we pass src and dst as numpy arrays, internally dgl graph method is converting them to torch tensors\n",
    "\n",
    "(Tensor types are generally preferred throughout DGL) due to :\n",
    "- Efficient internal storage in C and\n",
    "- Explicit data type and device context information"
   ]
  },
  {
   "cell_type": "markdown",
   "id": "1f800752-13f0-44f3-b394-af9cc645bd04",
   "metadata": {},
   "source": [
    "\n",
    "### Python List"
   ]
  },
  {
   "cell_type": "code",
   "execution_count": 84,
   "id": "cdf0b3fd-491c-4422-ba2b-9bfde33c5392",
   "metadata": {},
   "outputs": [
    {
     "name": "stdout",
     "output_type": "stream",
     "text": [
      "Graph(num_nodes=5, num_edges=8,\n",
      "      ndata_schemes={}\n",
      "      edata_schemes={})\n"
     ]
    }
   ],
   "source": [
    "src_node_ids = [0, 0, 0, 1, 1, 2, 2, 3] # Python List\n",
    "dst_node_ids = [1, 2, 4, 2, 3, 3, 4, 4] # Python List\n",
    "\n",
    "graph_python = dgl.graph((src_node_ids, dst_node_ids))\n",
    "\n",
    "print(graph_python)"
   ]
  },
  {
   "cell_type": "markdown",
   "id": "eb2322f1-de17-439f-95b5-2fbf16287343",
   "metadata": {},
   "source": [
    "---"
   ]
  },
  {
   "cell_type": "markdown",
   "id": "64a6a1aa-a83e-4119-a218-42902396d65c",
   "metadata": {},
   "source": [
    "## Isolated Nodes in the Graphs"
   ]
  },
  {
   "cell_type": "code",
   "execution_count": 85,
   "id": "9edfcc29-7a06-4e24-b8f9-9fd51f7fdcef",
   "metadata": {},
   "outputs": [],
   "source": [
    "# How do we create such a graph that has isolated nodes"
   ]
  },
  {
   "cell_type": "code",
   "execution_count": 86,
   "id": "50e1b6e7-2b7e-485b-8f56-39b01c7108dc",
   "metadata": {},
   "outputs": [
    {
     "name": "stdout",
     "output_type": "stream",
     "text": [
      "Graph(num_nodes=5, num_edges=8,\n",
      "      ndata_schemes={}\n",
      "      edata_schemes={})\n"
     ]
    }
   ],
   "source": [
    "src_node_ids = torch.tensor([0, 0, 0, 1, 1, 2, 2, 3])\n",
    "dst_node_ids = torch.tensor([1, 2, 4, 2, 3, 3, 4, 4])\n",
    "\n",
    "graph = dgl.graph((src_node_ids, dst_node_ids))\n",
    "\n",
    "print(graph)"
   ]
  },
  {
   "cell_type": "markdown",
   "id": "cf4e5618-3d20-4d95-9bc6-ee0c38e9042a",
   "metadata": {},
   "source": [
    "---\n",
    "## Adding Node and Edge Features\n",
    "\n",
    "ndata and edata schemes"
   ]
  },
  {
   "cell_type": "code",
   "execution_count": 87,
   "id": "85a48279-e682-4910-aa41-aa50499ba0bd",
   "metadata": {},
   "outputs": [
    {
     "data": {
      "text/plain": [
       "Graph(num_nodes=4, num_edges=5,\n",
       "      ndata_schemes={}\n",
       "      edata_schemes={})"
      ]
     },
     "execution_count": 87,
     "metadata": {},
     "output_type": "execute_result"
    }
   ],
   "source": [
    "src_node = torch.tensor([0, 1, 1, 2, 3])\n",
    "dst_node = torch.tensor([2, 0, 2, 3, 3])\n",
    "\n",
    "graph = dgl.graph((src_node, dst_node))\n",
    "\n",
    "graph"
   ]
  },
  {
   "cell_type": "code",
   "execution_count": 88,
   "id": "cae37e7f-c27a-489a-b82a-37025e5aca87",
   "metadata": {},
   "outputs": [
    {
     "data": {
      "text/plain": [
       "{}"
      ]
     },
     "execution_count": 88,
     "metadata": {},
     "output_type": "execute_result"
    }
   ],
   "source": [
    "graph.ndata # empty as we didn't add any data to the nodes"
   ]
  },
  {
   "cell_type": "code",
   "execution_count": 89,
   "id": "0a7ea2ed-cf64-4c5e-adb3-b391dc58676f",
   "metadata": {},
   "outputs": [
    {
     "data": {
      "text/plain": [
       "tensor([0, 1, 2, 3])"
      ]
     },
     "execution_count": 89,
     "metadata": {},
     "output_type": "execute_result"
    }
   ],
   "source": [
    "graph.nodes()"
   ]
  },
  {
   "cell_type": "code",
   "execution_count": 90,
   "id": "5a512917-9faf-4505-9f59-2de72e65422c",
   "metadata": {},
   "outputs": [],
   "source": [
    "graph.ndata['node_vectors'] = torch.tensor([[1, 2, 3],\n",
    "                                            [2, 4, 5],\n",
    "                                            [3, 5, 6],\n",
    "                                            [7, 8, 9]]) # new ndata with node_vectors\n"
   ]
  },
  {
   "cell_type": "code",
   "execution_count": 91,
   "id": "3296f30d-8b7d-4527-834b-77f63ece4e2e",
   "metadata": {},
   "outputs": [
    {
     "data": {
      "text/plain": [
       "Graph(num_nodes=4, num_edges=5,\n",
       "      ndata_schemes={'node_vectors': Scheme(shape=(3,), dtype=torch.int64)}\n",
       "      edata_schemes={})"
      ]
     },
     "execution_count": 91,
     "metadata": {},
     "output_type": "execute_result"
    }
   ],
   "source": [
    "graph"
   ]
  },
  {
   "cell_type": "code",
   "execution_count": 92,
   "id": "82d26ca5-9095-4030-badc-f007fdbe304b",
   "metadata": {},
   "outputs": [
    {
     "data": {
      "text/plain": [
       "tensor([[1, 2, 3],\n",
       "        [2, 4, 5],\n",
       "        [3, 5, 6],\n",
       "        [7, 8, 9]])"
      ]
     },
     "execution_count": 92,
     "metadata": {},
     "output_type": "execute_result"
    }
   ],
   "source": [
    "graph.ndata['node_vectors']"
   ]
  },
  {
   "cell_type": "code",
   "execution_count": 93,
   "id": "fb1a1b5f-53a7-4a46-b404-6f51dac43a9b",
   "metadata": {},
   "outputs": [
    {
     "data": {
      "text/plain": [
       "torch.Size([4, 3])"
      ]
     },
     "execution_count": 93,
     "metadata": {},
     "output_type": "execute_result"
    }
   ],
   "source": [
    "graph.ndata['node_vectors'].shape"
   ]
  },
  {
   "cell_type": "markdown",
   "id": "f8f58107-1c6b-4f08-b7dc-fa491e8330e9",
   "metadata": {},
   "source": [
    "Edge Features"
   ]
  },
  {
   "cell_type": "code",
   "execution_count": 94,
   "id": "e0c44cd2-2069-4e80-b4f0-206ce8b6e8fc",
   "metadata": {},
   "outputs": [
    {
     "data": {
      "text/plain": [
       "(tensor([0, 1, 1, 2, 3]), tensor([2, 0, 2, 3, 3]), tensor([0, 1, 2, 3, 4]))"
      ]
     },
     "execution_count": 94,
     "metadata": {},
     "output_type": "execute_result"
    }
   ],
   "source": [
    "graph.edges(form = 'all')"
   ]
  },
  {
   "cell_type": "code",
   "execution_count": 95,
   "id": "f9f0608f-5ac0-427a-9cdb-1f10ac709657",
   "metadata": {},
   "outputs": [
    {
     "data": {
      "text/plain": [
       "{}"
      ]
     },
     "execution_count": 95,
     "metadata": {},
     "output_type": "execute_result"
    }
   ],
   "source": [
    "graph.edata # empty for now"
   ]
  },
  {
   "cell_type": "code",
   "execution_count": 96,
   "id": "a38977e2-31ef-4864-be05-85677052eb73",
   "metadata": {},
   "outputs": [],
   "source": [
    "graph.edata['edge_weights'] = torch.tensor([100, 200, 300, 400, 500])"
   ]
  },
  {
   "cell_type": "code",
   "execution_count": 97,
   "id": "22c4fd33-15e2-4711-b0db-f7e5387a2565",
   "metadata": {},
   "outputs": [
    {
     "data": {
      "text/plain": [
       "Graph(num_nodes=4, num_edges=5,\n",
       "      ndata_schemes={'node_vectors': Scheme(shape=(3,), dtype=torch.int64)}\n",
       "      edata_schemes={'edge_weights': Scheme(shape=(), dtype=torch.int64)})"
      ]
     },
     "execution_count": 97,
     "metadata": {},
     "output_type": "execute_result"
    }
   ],
   "source": [
    "graph"
   ]
  },
  {
   "cell_type": "code",
   "execution_count": 98,
   "id": "f83bc5b4-661d-4f4f-aebd-50a70c0b806b",
   "metadata": {},
   "outputs": [
    {
     "data": {
      "text/plain": [
       "tensor([100, 200, 300, 400, 500])"
      ]
     },
     "execution_count": 98,
     "metadata": {},
     "output_type": "execute_result"
    }
   ],
   "source": [
    "graph.edata['edge_weights']"
   ]
  },
  {
   "cell_type": "markdown",
   "id": "533abcf8-da53-4ecb-8ac4-b50332d01fa8",
   "metadata": {},
   "source": [
    "---\n",
    "\n",
    "# Heterogeneous Graph"
   ]
  },
  {
   "cell_type": "code",
   "execution_count": 99,
   "id": "58d947e9-e46f-4db6-b115-532351afddfc",
   "metadata": {},
   "outputs": [
    {
     "data": {
      "text/plain": [
       "{('user', 'watches', 'movie'): (tensor([0, 0, 1, 2]), tensor([0, 1, 0, 1])),\n",
       " ('director', 'directs', 'movie'): (tensor([0, 1]), tensor([1, 0]))}"
      ]
     },
     "execution_count": 99,
     "metadata": {},
     "output_type": "execute_result"
    }
   ],
   "source": [
    "# different types of nodes and edges in the same graph\n",
    "\n",
    "# making a directed heterogeneous graph\n",
    "\n",
    "# triplets (src_type, edge_type, dst_type)\n",
    "\n",
    "# {(src_type, edge_type, dst_type) : (src_node_id_tensor, dst_node_id_tensor), () : (), () : ()}\n",
    "\n",
    "data_dict = {\n",
    "    ('user', 'watches', 'movie') : (torch.tensor([0, 0, 1, 2]), torch.tensor([0, 1, 0, 1])),\n",
    "    ('director', 'directs', 'movie') : (torch.tensor([0, 1]), torch.tensor([1, 0]))\n",
    "}\n",
    "\n",
    "(data_dict)\n",
    "\n"
   ]
  },
  {
   "cell_type": "code",
   "execution_count": 100,
   "id": "4b95ea12-511b-418d-ba61-84d3cd60f964",
   "metadata": {},
   "outputs": [
    {
     "data": {
      "text/plain": [
       "Graph(num_nodes={'director': 2, 'movie': 2, 'user': 3},\n",
       "      num_edges={('director', 'directs', 'movie'): 2, ('user', 'watches', 'movie'): 4},\n",
       "      metagraph=[('director', 'movie', 'directs'), ('user', 'movie', 'watches')])"
      ]
     },
     "execution_count": 100,
     "metadata": {},
     "output_type": "execute_result"
    }
   ],
   "source": [
    "hetero_graph = dgl.heterograph(data_dict)\n",
    "hetero_graph"
   ]
  },
  {
   "cell_type": "markdown",
   "id": "501eb02a-6935-43e6-a90f-e9766017cc45",
   "metadata": {},
   "source": [
    "---\n",
    "## UnDirected (BiDirectional) Heterogeneous Graph"
   ]
  },
  {
   "cell_type": "code",
   "execution_count": 101,
   "id": "636727c8-256d-40cc-ad12-78b9457a52df",
   "metadata": {},
   "outputs": [
    {
     "data": {
      "text/plain": [
       "['director', 'movie', 'user']"
      ]
     },
     "execution_count": 101,
     "metadata": {},
     "output_type": "execute_result"
    }
   ],
   "source": [
    "hetero_graph.ntypes"
   ]
  },
  {
   "cell_type": "code",
   "execution_count": 102,
   "id": "fe6f5dbd-c65d-42f8-b713-2648f20875e1",
   "metadata": {},
   "outputs": [
    {
     "data": {
      "text/plain": [
       "tensor([0, 1, 2])"
      ]
     },
     "execution_count": 102,
     "metadata": {},
     "output_type": "execute_result"
    }
   ],
   "source": [
    "hetero_graph.nodes(ntype = 'user')"
   ]
  },
  {
   "cell_type": "code",
   "execution_count": 103,
   "id": "bedf80f4-71fc-4073-b684-d848b8c663e2",
   "metadata": {},
   "outputs": [
    {
     "data": {
      "text/plain": [
       "tensor([0, 1])"
      ]
     },
     "execution_count": 103,
     "metadata": {},
     "output_type": "execute_result"
    }
   ],
   "source": [
    "hetero_graph.nodes(ntype = 'movie')"
   ]
  },
  {
   "cell_type": "code",
   "execution_count": 104,
   "id": "c38d1f01-5cc1-468d-8bd2-96e8561bfc74",
   "metadata": {},
   "outputs": [
    {
     "data": {
      "text/plain": [
       "tensor([0, 1])"
      ]
     },
     "execution_count": 104,
     "metadata": {},
     "output_type": "execute_result"
    }
   ],
   "source": [
    "hetero_graph.nodes(ntype = 'director')"
   ]
  },
  {
   "cell_type": "code",
   "execution_count": 105,
   "id": "f7cdb235-fba3-4685-bf9a-1f6abfefc903",
   "metadata": {},
   "outputs": [
    {
     "data": {
      "text/plain": [
       "['directs', 'watches']"
      ]
     },
     "execution_count": 105,
     "metadata": {},
     "output_type": "execute_result"
    }
   ],
   "source": [
    "hetero_graph.etypes"
   ]
  },
  {
   "cell_type": "code",
   "execution_count": 106,
   "id": "cbdd8de3-660e-40e4-b054-3514f7021dc5",
   "metadata": {},
   "outputs": [
    {
     "data": {
      "text/plain": [
       "(tensor([0, 0, 1, 2]), tensor([0, 1, 0, 1]))"
      ]
     },
     "execution_count": 106,
     "metadata": {},
     "output_type": "execute_result"
    }
   ],
   "source": [
    "hetero_graph.edges(etype = 'watches')"
   ]
  },
  {
   "cell_type": "code",
   "execution_count": 107,
   "id": "967d4989-b298-4a01-bc31-34204aedeade",
   "metadata": {},
   "outputs": [
    {
     "data": {
      "text/plain": [
       "{('user', 'watches', 'movie'): (tensor([0, 0, 1, 2]), tensor([0, 1, 0, 1])),\n",
       " ('movie', 'watched_by', 'user'): (tensor([0, 1, 0, 1]), tensor([0, 0, 1, 2])),\n",
       " ('director', 'directs', 'movie'): (tensor([0, 1]), tensor([1, 0])),\n",
       " ('movie', 'directed_by', 'director'): (tensor([1, 0]), tensor([0, 1]))}"
      ]
     },
     "execution_count": 107,
     "metadata": {},
     "output_type": "execute_result"
    }
   ],
   "source": [
    "bidir_data_dict = {\n",
    "    ('user', 'watches', 'movie') : (torch.tensor([0, 0, 1, 2]), torch.tensor([0, 1, 0, 1])),\n",
    "    ('movie', 'watched_by', 'user') : (torch.tensor([0, 1, 0, 1]), torch.tensor([0, 0, 1, 2])),\n",
    "    ('director', 'directs', 'movie') : (torch.tensor([0, 1]), torch.tensor([1, 0])),\n",
    "    ('movie', 'directed_by', 'director') : (torch.tensor([1, 0]), torch.tensor([0, 1]))\n",
    "}\n",
    "\n",
    "bidir_data_dict"
   ]
  },
  {
   "cell_type": "code",
   "execution_count": 108,
   "id": "fb066f53-193c-4108-88a6-39128718212d",
   "metadata": {},
   "outputs": [
    {
     "data": {
      "text/plain": [
       "Graph(num_nodes={'director': 2, 'movie': 2, 'user': 3},\n",
       "      num_edges={('director', 'directs', 'movie'): 2, ('movie', 'directed_by', 'director'): 2, ('movie', 'watched_by', 'user'): 4, ('user', 'watches', 'movie'): 4},\n",
       "      metagraph=[('director', 'movie', 'directs'), ('movie', 'director', 'directed_by'), ('movie', 'user', 'watched_by'), ('user', 'movie', 'watches')])"
      ]
     },
     "execution_count": 108,
     "metadata": {},
     "output_type": "execute_result"
    }
   ],
   "source": [
    "bidirected_hetero_graph = dgl.heterograph(bidir_data_dict)\n",
    "\n",
    "bidirected_hetero_graph"
   ]
  },
  {
   "cell_type": "code",
   "execution_count": 109,
   "id": "816e6caf-8bdd-41b3-bf09-5e433ef8612a",
   "metadata": {},
   "outputs": [
    {
     "name": "stdout",
     "output_type": "stream",
     "text": [
      "12\n"
     ]
    }
   ],
   "source": [
    "total_num_edges = 0\n",
    "for etype in bidirected_hetero_graph.etypes:\n",
    "    total_num_edges += (bidirected_hetero_graph.num_edges(etype=etype))\n",
    "    \n",
    "print(total_num_edges)"
   ]
  },
  {
   "cell_type": "markdown",
   "id": "ab9c99c0-97c2-446c-9226-c3b66e949605",
   "metadata": {},
   "source": [
    "---\n",
    "## Adding Node and Edge Features to Heterogeneous Graphs"
   ]
  },
  {
   "cell_type": "code",
   "execution_count": 110,
   "id": "149e1395-e8ef-4e43-a2a1-a922c63481dc",
   "metadata": {},
   "outputs": [
    {
     "data": {
      "text/plain": [
       "['director', 'movie', 'user']"
      ]
     },
     "execution_count": 110,
     "metadata": {},
     "output_type": "execute_result"
    }
   ],
   "source": [
    "hetero_graph.ntypes"
   ]
  },
  {
   "cell_type": "code",
   "execution_count": 111,
   "id": "67054159-4afd-4420-a690-86d0d5ec4c9f",
   "metadata": {},
   "outputs": [],
   "source": [
    "\n",
    "hetero_graph.ndata['node_vector'] = {\n",
    "    'user': torch.ones(3, 2),\n",
    "    'movie': torch.ones(2, 3),\n",
    "    'director': torch.ones(2, 2)\n",
    "}\n",
    "# for users, we make 3 2-dim tensors\n"
   ]
  },
  {
   "cell_type": "code",
   "execution_count": 112,
   "id": "f1e2e888-29de-4024-901d-280bb39c77cf",
   "metadata": {},
   "outputs": [
    {
     "data": {
      "text/plain": [
       "{'director': tensor([[1., 1.],\n",
       "         [1., 1.]]),\n",
       " 'movie': tensor([[1., 1., 1.],\n",
       "         [1., 1., 1.]]),\n",
       " 'user': tensor([[1., 1.],\n",
       "         [1., 1.],\n",
       "         [1., 1.]])}"
      ]
     },
     "execution_count": 112,
     "metadata": {},
     "output_type": "execute_result"
    }
   ],
   "source": [
    "hetero_graph.ndata['node_vector']"
   ]
  },
  {
   "cell_type": "code",
   "execution_count": 113,
   "id": "265888ef-af22-4262-88e6-eef51ce16a7a",
   "metadata": {},
   "outputs": [
    {
     "data": {
      "text/plain": [
       "['directs', 'watches']"
      ]
     },
     "execution_count": 113,
     "metadata": {},
     "output_type": "execute_result"
    }
   ],
   "source": [
    "hetero_graph.etypes"
   ]
  },
  {
   "cell_type": "code",
   "execution_count": 114,
   "id": "169d978a-2e09-47a8-b8c5-4b0f35155b9e",
   "metadata": {},
   "outputs": [
    {
     "data": {
      "text/plain": [
       "4"
      ]
     },
     "execution_count": 114,
     "metadata": {},
     "output_type": "execute_result"
    }
   ],
   "source": [
    "hetero_graph.num_edges('watches')"
   ]
  },
  {
   "cell_type": "code",
   "execution_count": 115,
   "id": "2c58faf1-8eb4-428a-a15e-65ad4a09c1af",
   "metadata": {},
   "outputs": [
    {
     "data": {
      "text/plain": [
       "2"
      ]
     },
     "execution_count": 115,
     "metadata": {},
     "output_type": "execute_result"
    }
   ],
   "source": [
    "hetero_graph.num_edges('directs')"
   ]
  },
  {
   "cell_type": "code",
   "execution_count": 116,
   "id": "1642d2bc-6e67-4151-9c69-dbf8768b1e95",
   "metadata": {},
   "outputs": [],
   "source": [
    "hetero_graph.edata['edge_weight'] = {'directs': torch.ones(2, 1),\n",
    "                                    'watches': torch.ones(4, 1)}"
   ]
  },
  {
   "cell_type": "code",
   "execution_count": 117,
   "id": "c867e3e0-d29d-4e49-a3d8-bda49ecf9af2",
   "metadata": {},
   "outputs": [
    {
     "data": {
      "text/plain": [
       "{('director',\n",
       "  'directs',\n",
       "  'movie'): tensor([[1.],\n",
       "         [1.]]),\n",
       " ('user',\n",
       "  'watches',\n",
       "  'movie'): tensor([[1.],\n",
       "         [1.],\n",
       "         [1.],\n",
       "         [1.]])}"
      ]
     },
     "execution_count": 117,
     "metadata": {},
     "output_type": "execute_result"
    }
   ],
   "source": [
    "hetero_graph.edata['edge_weight']"
   ]
  },
  {
   "cell_type": "markdown",
   "id": "45c7e974-927b-4b82-9f8e-5f9529af8090",
   "metadata": {},
   "source": [
    "## Using Nodes and Edges to add features \n",
    "### (Method 2)"
   ]
  },
  {
   "cell_type": "code",
   "execution_count": 118,
   "id": "288d63eb-cd70-44b4-a871-e67a71511bb1",
   "metadata": {},
   "outputs": [],
   "source": [
    "del hetero_graph.ndata['node_vector']"
   ]
  },
  {
   "cell_type": "code",
   "execution_count": 119,
   "id": "102263e0-d477-4f4b-a298-8e8eb6ae5dfe",
   "metadata": {},
   "outputs": [],
   "source": [
    "del hetero_graph.edata['edge_weight']"
   ]
  },
  {
   "cell_type": "code",
   "execution_count": 120,
   "id": "1c94afaa-b5be-4215-9eec-7ccc917f8392",
   "metadata": {},
   "outputs": [
    {
     "data": {
      "text/plain": [
       "tensor([0, 1, 2])"
      ]
     },
     "execution_count": 120,
     "metadata": {},
     "output_type": "execute_result"
    }
   ],
   "source": [
    "hetero_graph.nodes(ntype='user')"
   ]
  },
  {
   "cell_type": "code",
   "execution_count": 121,
   "id": "72995ddf-c46d-4eac-b404-4d3f97ef07ff",
   "metadata": {},
   "outputs": [
    {
     "data": {
      "text/plain": [
       "NodeSpace(data={})"
      ]
     },
     "execution_count": 121,
     "metadata": {},
     "output_type": "execute_result"
    }
   ],
   "source": [
    "hetero_graph.nodes['user'] # it's an array-space"
   ]
  },
  {
   "cell_type": "code",
   "execution_count": 122,
   "id": "a977e79f-d9bc-400b-b7e3-b2175bcc911a",
   "metadata": {},
   "outputs": [
    {
     "data": {
      "text/plain": [
       "{}"
      ]
     },
     "execution_count": 122,
     "metadata": {},
     "output_type": "execute_result"
    }
   ],
   "source": [
    "hetero_graph.nodes['user'].data # similar to what? #(here we add the data at node level not at the feature level) "
   ]
  },
  {
   "cell_type": "code",
   "execution_count": 123,
   "id": "fa0a5d85-2e36-4790-bb7e-a02e8884da7a",
   "metadata": {},
   "outputs": [
    {
     "data": {
      "text/plain": [
       "{}"
      ]
     },
     "execution_count": 123,
     "metadata": {},
     "output_type": "execute_result"
    }
   ],
   "source": [
    "hetero_graph.ndata['user'] # similar to this! # with this we added data at feature level"
   ]
  },
  {
   "cell_type": "code",
   "execution_count": 124,
   "id": "6a66713a-6420-4a64-9ca4-0740aa9f56e1",
   "metadata": {},
   "outputs": [
    {
     "data": {
      "text/plain": [
       "defaultdict(<class 'dict'>, {'node_vectors': {'director': tensor([[1., 1.],\n",
       "        [1., 1.]]), 'movie': tensor([[1., 1., 1.],\n",
       "        [1., 1., 1.]]), 'user': tensor([[1., 1.],\n",
       "        [1., 1.],\n",
       "        [1., 1.]])}})"
      ]
     },
     "execution_count": 124,
     "metadata": {},
     "output_type": "execute_result"
    }
   ],
   "source": [
    "hetero_graph.nodes['user'].data['node_vectors'] = torch.ones(3, 2)\n",
    "hetero_graph.nodes['movie'].data['node_vectors'] = torch.ones(2, 3)\n",
    "hetero_graph.nodes['director'].data['node_vectors'] = torch.ones(2, 2)\n",
    "\n",
    "hetero_graph.ndata"
   ]
  },
  {
   "cell_type": "code",
   "execution_count": 125,
   "id": "46059009-ece0-44bf-a9f1-44b767c077ba",
   "metadata": {},
   "outputs": [
    {
     "data": {
      "text/plain": [
       "{'director': tensor([[1., 1.],\n",
       "         [1., 1.]]),\n",
       " 'movie': tensor([[1., 1., 1.],\n",
       "         [1., 1., 1.]]),\n",
       " 'user': tensor([[1., 1.],\n",
       "         [1., 1.],\n",
       "         [1., 1.]])}"
      ]
     },
     "execution_count": 125,
     "metadata": {},
     "output_type": "execute_result"
    }
   ],
   "source": [
    "hetero_graph.ndata['node_vectors']"
   ]
  },
  {
   "cell_type": "code",
   "execution_count": 126,
   "id": "db7789b3-8ec4-4ebb-bea0-2d43a30c94c8",
   "metadata": {},
   "outputs": [],
   "source": [
    "hetero_graph.edges['watches'].data['edge_weight'] = torch.ones(4, 1)\n",
    "hetero_graph.edges['directs'].data['edge_weight'] = torch.ones(2, 1)"
   ]
  },
  {
   "cell_type": "code",
   "execution_count": 127,
   "id": "939d3e61-91b3-4453-ac91-48b6ac2cf76b",
   "metadata": {},
   "outputs": [
    {
     "data": {
      "text/plain": [
       "{('director',\n",
       "  'directs',\n",
       "  'movie'): tensor([[1.],\n",
       "         [1.]]),\n",
       " ('user',\n",
       "  'watches',\n",
       "  'movie'): tensor([[1.],\n",
       "         [1.],\n",
       "         [1.],\n",
       "         [1.]])}"
      ]
     },
     "execution_count": 127,
     "metadata": {},
     "output_type": "execute_result"
    }
   ],
   "source": [
    "hetero_graph.edata['edge_weight']"
   ]
  },
  {
   "cell_type": "code",
   "execution_count": 129,
   "id": "f5749240-8659-498c-8417-7f2946da1103",
   "metadata": {},
   "outputs": [
    {
     "data": {
      "text/plain": [
       "tensor([[1., 1.],\n",
       "        [1., 1.],\n",
       "        [1., 1.]])"
      ]
     },
     "execution_count": 129,
     "metadata": {},
     "output_type": "execute_result"
    }
   ],
   "source": [
    "hetero_graph.nodes['user'].data['node_vectors']"
   ]
  },
  {
   "cell_type": "code",
   "execution_count": 131,
   "id": "d77097c6-200a-4f0c-99bf-f979a5434cfe",
   "metadata": {},
   "outputs": [
    {
     "data": {
      "text/plain": [
       "tensor([[1.],\n",
       "        [1.],\n",
       "        [1.],\n",
       "        [1.]])"
      ]
     },
     "execution_count": 131,
     "metadata": {},
     "output_type": "execute_result"
    }
   ],
   "source": [
    "hetero_graph.edges['watches'].data['edge_weight']"
   ]
  }
 ],
 "metadata": {
  "kernelspec": {
   "display_name": "Python 3 (ipykernel)",
   "language": "python",
   "name": "python3"
  },
  "language_info": {
   "codemirror_mode": {
    "name": "ipython",
    "version": 3
   },
   "file_extension": ".py",
   "mimetype": "text/x-python",
   "name": "python",
   "nbconvert_exporter": "python",
   "pygments_lexer": "ipython3",
   "version": "3.8.18"
  }
 },
 "nbformat": 4,
 "nbformat_minor": 5
}
