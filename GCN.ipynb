{
 "cells": [
  {
   "cell_type": "markdown",
   "id": "72dfcb99-eb67-43ae-b12c-ddcd99f0b214",
   "metadata": {},
   "source": [
    "# Graph Convolution Networks\n",
    "\n",
    "GCN architecture is the blueprint of what a GNN looks like.\n",
    "It is based on the idea of creating an efficient variant of CNNs applied to Graph.\n",
    "\n",
    "More accurately, it is an approximation of a graph convolution operation in graph signal processing.\n",
    "\n"
   ]
  },
  {
   "cell_type": "code",
   "execution_count": null,
   "id": "21221a53-f955-4a57-8240-d76549602843",
   "metadata": {},
   "outputs": [],
   "source": []
  },
  {
   "cell_type": "code",
   "execution_count": null,
   "id": "4b35dae4-08fd-4449-b11b-67bfbe193577",
   "metadata": {},
   "outputs": [],
   "source": []
  },
  {
   "cell_type": "code",
   "execution_count": null,
   "id": "5a4a9396-087c-4cb7-a065-b87342371d2a",
   "metadata": {},
   "outputs": [],
   "source": []
  },
  {
   "cell_type": "code",
   "execution_count": null,
   "id": "22a98a8f-f076-4776-a389-ca5f903ef82c",
   "metadata": {},
   "outputs": [],
   "source": []
  },
  {
   "cell_type": "code",
   "execution_count": null,
   "id": "9aaea577-bebd-4572-b339-ec73bf715bc3",
   "metadata": {},
   "outputs": [],
   "source": []
  },
  {
   "cell_type": "code",
   "execution_count": null,
   "id": "44a0d8b5-9035-4d31-a191-ebdf238cff32",
   "metadata": {},
   "outputs": [],
   "source": []
  },
  {
   "cell_type": "code",
   "execution_count": null,
   "id": "890b1d9a-7a08-42c0-9969-4ec66830920a",
   "metadata": {},
   "outputs": [],
   "source": []
  }
 ],
 "metadata": {
  "kernelspec": {
   "display_name": "Python 3 (ipykernel)",
   "language": "python",
   "name": "python3"
  },
  "language_info": {
   "codemirror_mode": {
    "name": "ipython",
    "version": 3
   },
   "file_extension": ".py",
   "mimetype": "text/x-python",
   "name": "python",
   "nbconvert_exporter": "python",
   "pygments_lexer": "ipython3",
   "version": "3.11.6"
  }
 },
 "nbformat": 4,
 "nbformat_minor": 5
}
