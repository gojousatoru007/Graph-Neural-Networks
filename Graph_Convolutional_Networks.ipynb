{
 "cells": [
  {
   "cell_type": "markdown",
   "id": "2a0bce71-2da7-4643-8132-cb94996cae3f",
   "metadata": {},
   "source": [
    "# Graph Convolution Network\n",
    "\n",
    "*Graph Convolution Network (GCN)* architecture is the blueprint of what a GNN looks like.\n",
    "\n",
    "(Ref. Kipf and Welling in 2017), it is based on the idea of creating an efficient variant of Convolution Neural Networks (CNNs) applied to graphs.\n",
    "\n",
    "More accurately, it is an approximation of a graph convolution operation in graph signal processing.\n",
    "\n",
    "More generally, it is the architecture of choice to create a solid baseline when dealing with graph data."
   ]
  },
  {
   "cell_type": "markdown",
   "id": "1dadc029-5a0e-447f-80ea-51c369fbfbf9",
   "metadata": {},
   "source": [
    "---\n",
    "\n",
    "\"We use the degree matrix to Normalize how to calculate embeddings for a node.\""
   ]
  },
  {
   "cell_type": "code",
   "execution_count": 1,
   "id": "93903585-2d9e-4437-8e76-6c51171cfba5",
   "metadata": {},
   "outputs": [
    {
     "data": {
      "text/plain": [
       "array([[3, 0, 0, 0],\n",
       "       [0, 1, 0, 0],\n",
       "       [0, 0, 2, 0],\n",
       "       [0, 0, 0, 2]])"
      ]
     },
     "execution_count": 1,
     "metadata": {},
     "output_type": "execute_result"
    }
   ],
   "source": [
    "import numpy as np\n",
    "\n",
    "D = np.array([[3, 0, 0, 0], [0, 1, 0, 0], [0, 0, 2, 0], [0, 0, 0, 2]]) # D matrix -> degree matrix counts the number of neighbours for each node.\n",
    "\n",
    "D # D gives us the degree of each node, deg(i). Therefore, the inverse of this Matrix D^-1 directly gives us the normalization coefficients 1/deg(i)"
   ]
  },
  {
   "cell_type": "code",
   "execution_count": 2,
   "id": "ba82322e-fd3f-45bb-a792-67e7b2462412",
   "metadata": {},
   "outputs": [
    {
     "data": {
      "text/plain": [
       "array([[0.33333333, 0.        , 0.        , 0.        ],\n",
       "       [0.        , 1.        , 0.        , 0.        ],\n",
       "       [0.        , 0.        , 0.5       , 0.        ],\n",
       "       [0.        , 0.        , 0.        , 0.5       ]])"
      ]
     },
     "execution_count": 2,
     "metadata": {},
     "output_type": "execute_result"
    }
   ],
   "source": [
    "D_inv = np.linalg.inv(D)\n",
    "\n",
    "D_inv\n",
    "\n",
    "# We should add self loops to the degree matrix : D` = D + I\n",
    "\n",
    "# The final matrix we are actually interested in D`^-1 = (D+I)^-1"
   ]
  },
  {
   "cell_type": "code",
   "execution_count": 3,
   "id": "cf5db494-3b99-4012-be35-6abd4a687ead",
   "metadata": {},
   "outputs": [
    {
     "data": {
      "text/plain": [
       "array([[0.25      , 0.        , 0.        , 0.        ],\n",
       "       [0.        , 0.5       , 0.        , 0.        ],\n",
       "       [0.        , 0.        , 0.33333333, 0.        ],\n",
       "       [0.        , 0.        , 0.        , 0.33333333]])"
      ]
     },
     "execution_count": 3,
     "metadata": {},
     "output_type": "execute_result"
    }
   ],
   "source": [
    "D_tilda_inv = np.linalg.inv(D + np.identity(4))\n",
    "\n",
    "D_tilda_inv"
   ]
  },
  {
   "cell_type": "markdown",
   "id": "e921ebf1-72ce-4e85-9530-f6d0c6cd0a62",
   "metadata": {},
   "source": [
    "- $ \\tilde{D^{-1}} \\tilde{A} X W^{T} $ will normalize every row of features\n",
    "\n",
    "- $  \\tilde{A} \\tilde{D^{-1}} X W^{T} $ will normalize every column of features"
   ]
  },
  {
   "cell_type": "code",
   "execution_count": 4,
   "id": "c80fd6ef-8252-4362-83fe-e2d7d1178216",
   "metadata": {},
   "outputs": [
    {
     "name": "stdout",
     "output_type": "stream",
     "text": [
      "[[0.25       0.25       0.25       0.25      ]\n",
      " [0.5        0.5        0.         0.        ]\n",
      " [0.33333333 0.         0.33333333 0.33333333]\n",
      " [0.33333333 0.         0.33333333 0.33333333]]\n",
      "\n",
      "\n",
      "[[0.25       0.5        0.33333333 0.33333333]\n",
      " [0.25       0.5        0.         0.        ]\n",
      " [0.25       0.         0.33333333 0.33333333]\n",
      " [0.25       0.         0.33333333 0.33333333]]\n"
     ]
    }
   ],
   "source": [
    "A = np.array([[1, 1, 1, 1], [1, 1, 0, 0], [1, 0, 1, 1], [1, 0, 1, 1]])\n",
    "\n",
    "print(np.linalg.inv(D + np.identity(4)) @ A)\n",
    "print(\"\\n\")\n",
    "print(A @ np.linalg.inv(D + np.identity(4)))"
   ]
  },
  {
   "cell_type": "markdown",
   "id": "fb8dddd7-dfa1-4e63-afb4-583d7321f352",
   "metadata": {},
   "source": [
    "The first option looks more appealing because it nicely normalizes neighboring (row) node features and not the single (column) feature"
   ]
  },
  {
   "cell_type": "markdown",
   "id": "4779c768-dfeb-4344-955d-a45e646ed06a",
   "metadata": {},
   "source": [
    "However, Kipf and Welling noticed that features from nodes with a lot of neighbors spread very easily, unlike features from more isolated nodes. In the original GCN paper, the authors proposed a hybrid normalization to counterbalance this effect. In practice, they assign higher weights to nodes with few neighbors using the following formula:\n",
    "\n",
    "$$ H = \\tilde{D}^{-1/2} \\tilde{A}^{T} \\tilde{D}^{-1/2} X W^{T}$$"
   ]
  },
  {
   "cell_type": "markdown",
   "id": "29dedb12-ad73-456c-9e15-4bcaf0e78e9a",
   "metadata": {},
   "source": [
    "In terms of individual embeddings, this operation can be written as follows:\n",
    "\n",
    "$ h_{i} = \\sum_{j \\in N_{i}} \\frac{1}{\\sqrt[]{deg(i)}} \\frac{1}{\\sqrt[]{deg(j)}} x_{j} W^{T} $\n",
    "\n",
    "Those are the original formulas to implement a graph convolutional layer. As with our Vanilla GNN layer, we can stack these layers to create a GCN."
   ]
  },
  {
   "cell_type": "markdown",
   "id": "fc674501-9d1d-43f6-a8b7-4589f735da06",
   "metadata": {},
   "source": [
    "## Implementing GCN"
   ]
  },
  {
   "cell_type": "markdown",
   "id": "e84d5153-a983-4b4c-a74b-4cdc3ed550fc",
   "metadata": {},
   "source": [
    "Compared to the Vanilla GNN, the main feature of the GCN is that it considers node degrees to weigh its features. let's analyze the node degrees in both (Cora and Facebook Page-Page Datasets).\n",
    "\n",
    "(Directly Linked to the performance of the GCN)\n",
    "\n",
    "From what we know about this architecture, we expect it to perform better when node degrees vary greatly. If every node has the same number of neighbors, these architecture are equivalent:\n",
    "\n",
    "$$ \\sqrt[]{deg(i)} \\sqrt[]{deg(i)} = deg(i)$$"
   ]
  },
  {
   "cell_type": "code",
   "execution_count": 5,
   "id": "70121064-585a-41a2-b318-73098f42c9ba",
   "metadata": {},
   "outputs": [],
   "source": [
    "from torch_geometric.datasets import Planetoid # Importing Planetoid class from PyTorch Geometric\n",
    "\n",
    "from torch_geometric.utils import degree\n",
    "\n",
    "from collections import Counter\n",
    "\n",
    "import matplotlib.pyplot as plt"
   ]
  },
  {
   "cell_type": "code",
   "execution_count": 6,
   "id": "94885e34-a5f2-4b1a-9dce-866ee12e06dc",
   "metadata": {},
   "outputs": [],
   "source": [
    "dataset = Planetoid(root = \".\", name = \"Cora\") # Cora dataset is imported and it's graph is stored in data\n",
    "data = dataset[0]\n"
   ]
  },
  {
   "cell_type": "code",
   "execution_count": 7,
   "id": "5014a1a4-cc0a-45b4-9164-f74359c52201",
   "metadata": {},
   "outputs": [],
   "source": [
    "degrees = degree(data.edge_index[0]).numpy() # number of neighbors of each node in the graph"
   ]
  },
  {
   "cell_type": "code",
   "execution_count": 8,
   "id": "2f56a111-d8b8-47ea-9877-e38b3891323c",
   "metadata": {},
   "outputs": [],
   "source": [
    "numbers = Counter(degrees) # counting the number of nodes of each degree"
   ]
  },
  {
   "cell_type": "code",
   "execution_count": 9,
   "id": "060653da-dd20-4329-8298-8469be7b90de",
   "metadata": {},
   "outputs": [
    {
     "data": {
      "text/plain": [
       "<BarContainer object of 37 artists>"
      ]
     },
     "execution_count": 9,
     "metadata": {},
     "output_type": "execute_result"
    },
    {
     "data": {
      "image/png": "[encoded data removed]",
      "text/plain": [
       "<Figure size 640x480 with 1 Axes>"
      ]
     },
     "metadata": {},
     "output_type": "display_data"
    }
   ],
   "source": [
    "fig, ax = plt.subplots()\n",
    "ax.set_xlabel('Node Degree')\n",
    "ax.set_ylabel('Number of Nodes')\n",
    "\n",
    "plt.bar(numbers.keys(), numbers.values()) # Number of Nodes with Specific Degrees in the Cora Dataset"
   ]
  },
  {
   "cell_type": "markdown",
   "id": "12e96389-f79e-4f9a-9ccd-68eaa7137b03",
   "metadata": {},
   "source": [
    "This distribution looks exponential with a heavy tail: it ranges from 1 neighbor (485 nodes) to 168 \n",
    "neighbors (1 node)! This is exactly the kind of dataset where we want a normalization process to\r\n",
    "consider this disbalan.\n",
    "\n",
    "Now we try to observe similar indications from the Facebook PagePage datasetce"
   ]
  },
  {
   "cell_type": "code",
   "execution_count": 10,
   "id": "f6d2df9c-8e43-4fb5-abb4-0ff7942152cc",
   "metadata": {},
   "outputs": [
    {
     "data": {
      "text/plain": [
       "<BarContainer object of 233 artists>"
      ]
     },
     "execution_count": 10,
     "metadata": {},
     "output_type": "execute_result"
    },
    {
     "data": {
      "image/png": "[encoded data removed]",
      "text/plain": [
       "<Figure size 640x480 with 1 Axes>"
      ]
     },
     "metadata": {},
     "output_type": "display_data"
    }
   ],
   "source": [
    "from torch_geometric.datasets import FacebookPagePage\n",
    "\n",
    "# Import dataset from PyTorch Geometric\n",
    "dataset = FacebookPagePage(root=\".\")\n",
    "data = dataset[0]\n",
    "\n",
    "# Create masks\n",
    "data.train_mask = range(18000)\n",
    "data.val_mask = range(18001, 20000)\n",
    "data.test_mask = range(20001, 22470)\n",
    "\n",
    "# Get list of degrees for each node\n",
    "degrees = degree(data.edge_index[0]).numpy()\n",
    "\n",
    "# Count the number of nodes for each degree\n",
    "numbers = Counter(degrees)\n",
    "\n",
    "# Bar plot\n",
    "fig, ax = plt.subplots()\n",
    "ax.set_xlabel('Node degree')\n",
    "ax.set_ylabel('Number of nodes')\n",
    "plt.bar(numbers.keys(), numbers.values())"
   ]
  },
  {
   "cell_type": "markdown",
   "id": "43bdb280-a096-48f0-9a8d-b588ee8e6ce6",
   "metadata": {},
   "source": [
    "We have estabished why we need GCN which are better for dealing with datasets with such skewed distribution of Node Degrees"
   ]
  },
  {
   "cell_type": "code",
   "execution_count": 11,
   "id": "417302cf-5012-4b6e-b719-5339c6724545",
   "metadata": {},
   "outputs": [],
   "source": [
    "# Implementation\n",
    "\n",
    "import torch\n",
    "import torch.nn.functional as F\n",
    "from torch_geometric.nn import GCNConv\n",
    "\n",
    "dataset = Planetoid(root=\".\", name=\"Cora\")\n",
    "data = dataset[0]"
   ]
  },
  {
   "cell_type": "code",
   "execution_count": 12,
   "id": "71fa498c-b612-4e94-88e3-6139b46e5735",
   "metadata": {},
   "outputs": [],
   "source": [
    "def accuracy(pred_y, y):\n",
    " return ((pred_y == y).sum() / len(y)).item()\n"
   ]
  },
  {
   "cell_type": "code",
   "execution_count": 13,
   "id": "037c1186-b7fa-4eba-b6f4-b28035640eaa",
   "metadata": {},
   "outputs": [
    {
     "name": "stdout",
     "output_type": "stream",
     "text": [
      "GCN(\n",
      "  (gcn1): GCNConv(1433, 16)\n",
      "  (gcn2): GCNConv(16, 7)\n",
      ")\n",
      "Epoch   0 | Train Loss :  1.957679 | Train Acc: 10.71% | Val Loss:  1.94 | Val Acc:  16.60%\n",
      "Epoch  20 | Train Loss :  0.111018 | Train Acc: 99.29% | Val Loss:  0.80 | Val Acc:  78.00%\n",
      "Epoch  40 | Train Loss :  0.015295 | Train Acc: 100.00% | Val Loss:  0.76 | Val Acc:  77.20%\n",
      "Epoch  60 | Train Loss :  0.014098 | Train Acc: 100.00% | Val Loss:  0.74 | Val Acc:  78.00%\n",
      "Epoch  80 | Train Loss :  0.016527 | Train Acc: 100.00% | Val Loss:  0.73 | Val Acc:  77.40%\n",
      "Epoch 100 | Train Loss :  0.015466 | Train Acc: 100.00% | Val Loss:  0.73 | Val Acc:  77.20%\n",
      "\n",
      "GCN test accuracy: 79.60%\n",
      "\n"
     ]
    }
   ],
   "source": [
    "class GCN(torch.nn.Module):\n",
    "    \"\"\"Graph Convolutional Network\"\"\"\n",
    "    def __init__(self, dim_in, dim_h, dim_out):\n",
    "        super().__init__()\n",
    "        self.gcn1 = GCNConv(dim_in, dim_h)\n",
    "        self.gcn2 = GCNConv(dim_h, dim_out)\n",
    "\n",
    "    def forward(self, x, edge_index):\n",
    "        h = self.gcn1(x, edge_index)\n",
    "        h = torch.relu(h)\n",
    "        h = self.gcn2(h, edge_index)\n",
    "        return F.log_softmax(h, dim = 1)\n",
    "\n",
    "    def fit(self, data, epochs):\n",
    "        criterion = torch.nn.CrossEntropyLoss()\n",
    "        optimizer = torch.optim.Adam(self.parameters(),\n",
    "                                     lr = 0.01,\n",
    "                                     weight_decay=5e-4)\n",
    "\n",
    "        self.train()\n",
    "        for epoch in range(epochs + 1):\n",
    "            optimizer.zero_grad()\n",
    "            out = self(data.x, data.edge_index)\n",
    "            loss = criterion(out[data.train_mask], data.y[data.train_mask])\n",
    "            acc = accuracy(out[data.train_mask].argmax(dim = 1), data.y[data.train_mask])\n",
    "\n",
    "            loss.backward()\n",
    "            optimizer.step()\n",
    "\n",
    "            if(epoch % 20 == 0):\n",
    "                val_loss = criterion(out[data.val_mask], data.y[data.val_mask])\n",
    "                val_acc = accuracy(out[data.val_mask].argmax(dim = 1),\n",
    "                                   data.y[data.val_mask])\n",
    "                print(f'Epoch {epoch: >3} | Train Loss : {loss: 3f} | Train Acc:'\n",
    "                      f' {acc*100 : >5.2f}% | Val Loss: {val_loss: .2f} | '\n",
    "                f'Val Acc: {val_acc*100: .2f}%')\n",
    "\n",
    "    @torch.no_grad()\n",
    "    def test(self, data):\n",
    "        self.eval()\n",
    "        out = self(data.x, data.edge_index)\n",
    "        acc = accuracy(out.argmax(dim = 1)[data.test_mask], data.y[data.test_mask])\n",
    "        return acc\n",
    "\n",
    "\n",
    "# Create the Vanilla GNN model\n",
    "gcn = GCN(dataset.num_features, 16, dataset.num_classes)\n",
    "print(gcn)\n",
    "\n",
    "# Train\n",
    "gcn.fit(data, epochs=100)\n",
    "\n",
    "# Test\n",
    "acc = gcn.test(data)\n",
    "print(f'\\nGCN test accuracy: {acc*100:.2f}%\\n')"
   ]
  },
  {
   "cell_type": "code",
   "execution_count": 14,
   "id": "350aa729-e29b-4198-8fdc-363ab78a8a89",
   "metadata": {},
   "outputs": [
    {
     "name": "stdout",
     "output_type": "stream",
     "text": [
      "GCN(\n",
      "  (gcn1): GCNConv(128, 16)\n",
      "  (gcn2): GCNConv(16, 4)\n",
      ")\n",
      "Epoch   0 | Train Loss :  1.566475 | Train Acc: 20.26% | Val Loss:  1.55 | Val Acc:  20.91%\n",
      "Epoch  20 | Train Loss :  0.473839 | Train Acc: 84.01% | Val Loss:  0.46 | Val Acc:  85.14%\n",
      "Epoch  40 | Train Loss :  0.327671 | Train Acc: 89.41% | Val Loss:  0.32 | Val Acc:  89.84%\n",
      "Epoch  60 | Train Loss :  0.279295 | Train Acc: 91.32% | Val Loss:  0.27 | Val Acc:  91.95%\n",
      "Epoch  80 | Train Loss :  0.254434 | Train Acc: 92.28% | Val Loss:  0.26 | Val Acc:  92.65%\n",
      "Epoch 100 | Train Loss :  0.238537 | Train Acc: 92.81% | Val Loss:  0.24 | Val Acc:  92.90%\n",
      "\n",
      "GCN test accuracy: 91.66%\n",
      "\n"
     ]
    }
   ],
   "source": [
    "# Load Facebook Page-Page\n",
    "dataset = FacebookPagePage(root=\".\")\n",
    "data = dataset[0]\n",
    "data.train_mask = range(18000)\n",
    "data.val_mask = range(18001, 20000)\n",
    "data.test_mask = range(20001, 22470)\n",
    "\n",
    "# Train GCN\n",
    "gcn = GCN(dataset.num_features, 16, dataset.num_classes)\n",
    "print(gcn)\n",
    "gcn.fit(data, epochs=100)\n",
    "acc = gcn.test(data)\n",
    "print(f'\\nGCN test accuracy: {acc*100:.2f}%\\n')"
   ]
  },
  {
   "cell_type": "code",
   "execution_count": 15,
   "id": "10081f30-a65c-4712-a53f-120ead3bd168",
   "metadata": {},
   "outputs": [
    {
     "name": "stdout",
     "output_type": "stream",
     "text": [
      "Dataset: WikipediaNetwork()\n",
      "-------------------\n",
      "Number of graphs: 1\n",
      "Number of nodes: 2277\n",
      "Number of unique features: 2325\n",
      "Number of classes: 5\n",
      "\n",
      "Graph:\n",
      "------\n",
      "Edges are directed: True\n",
      "Graph has isolated nodes: False\n",
      "Graph has loops: True\n"
     ]
    }
   ],
   "source": [
    "from torch_geometric.datasets import WikipediaNetwork\n",
    "import torch_geometric.transforms as T\n",
    "\n",
    "dataset = WikipediaNetwork(root=\".\", name=\"chameleon\", transform = T.RandomNodeSplit(num_val=200, num_test=500))\n",
    "data = dataset[0]\n",
    "\n",
    "# Print information about the dataset\n",
    "print(f'Dataset: {dataset}')\n",
    "print('-------------------')\n",
    "print(f'Number of graphs: {len(dataset)}')\n",
    "print(f'Number of nodes: {data.x.shape[0]}')\n",
    "print(f'Number of unique features: {dataset.num_features}')\n",
    "print(f'Number of classes: {dataset.num_classes}')\n",
    "\n",
    "# Print information about the graph\n",
    "print(f'\\nGraph:')\n",
    "print('------')\n",
    "print(f'Edges are directed: {data.is_directed()}')\n",
    "print(f'Graph has isolated nodes: {data.has_isolated_nodes()}')\n",
    "print(f'Graph has loops: {data.has_self_loops()}')"
   ]
  },
  {
   "cell_type": "code",
   "execution_count": 16,
   "id": "19778cfe-c7ba-499e-a73e-e18d2953f48a",
   "metadata": {},
   "outputs": [
    {
     "name": "stdout",
     "output_type": "stream",
     "text": [
      "Dataset: WikipediaNetwork()\n",
      "-------------------\n",
      "Number of graphs: 1\n",
      "Number of nodes: 2277\n",
      "Number of unique features: 2325\n",
      "Number of classes: 5\n"
     ]
    }
   ],
   "source": [
    "from torch_geometric.datasets import WikipediaNetwork\n",
    "import torch_geometric.transforms as T\n",
    "dataset = WikipediaNetwork(root=\".\", name=\"chameleon\", \n",
    "transform = T.RandomNodeSplit(num_val=200, num_test=500))\n",
    "data = dataset[0]\n",
    "\n",
    "print(f'Dataset: {dataset}')\n",
    "print('-------------------')\n",
    "print(f'Number of graphs: {len(dataset)}')\n",
    "print(f'Number of nodes: {data.x.shape[0]}')\n",
    "print(f'Number of unique features: {dataset.num_features}')\n",
    "print(f'Number of classes: {dataset.num_classes}')"
   ]
  },
  {
   "cell_type": "code",
   "execution_count": 18,
   "id": "fa7ab5f4-1897-40be-8187-2b1d1f42f175",
   "metadata": {},
   "outputs": [
    {
     "ename": "IncompleteRead",
     "evalue": "IncompleteRead(98304 bytes read, 3685851 more expected)",
     "output_type": "error",
     "traceback": [
      "\u001b[1;31m---------------------------------------------------------------------------\u001b[0m",
      "\u001b[1;31mIncompleteRead\u001b[0m                            Traceback (most recent call last)",
      "Cell \u001b[1;32mIn[18], line 8\u001b[0m\n\u001b[0;32m      6\u001b[0m url \u001b[38;5;241m=\u001b[39m \u001b[38;5;124m'\u001b[39m\u001b[38;5;124mhttps://snap.stanford.edu/data/wikipedia.zip\u001b[39m\u001b[38;5;124m'\u001b[39m\n\u001b[0;32m      7\u001b[0m \u001b[38;5;28;01mwith\u001b[39;00m urlopen(url) \u001b[38;5;28;01mas\u001b[39;00m zurl:\n\u001b[1;32m----> 8\u001b[0m     \u001b[38;5;28;01mwith\u001b[39;00m ZipFile(BytesIO(\u001b[43mzurl\u001b[49m\u001b[38;5;241;43m.\u001b[39;49m\u001b[43mread\u001b[49m\u001b[43m(\u001b[49m\u001b[43m)\u001b[49m)) \u001b[38;5;28;01mas\u001b[39;00m zfile:\n\u001b[0;32m      9\u001b[0m         zfile\u001b[38;5;241m.\u001b[39mextractall(\u001b[38;5;124m'\u001b[39m\u001b[38;5;124m.\u001b[39m\u001b[38;5;124m'\u001b[39m)\n\u001b[0;32m     10\u001b[0m df \u001b[38;5;241m=\u001b[39m pd\u001b[38;5;241m.\u001b[39mread_csv(\u001b[38;5;124m'\u001b[39m\u001b[38;5;124mwikipedia/chameleon/musae_chameleon_target.csv\u001b[39m\u001b[38;5;124m'\u001b[39m)\n",
      "File \u001b[1;32mC:\\Program Files\\WindowsApps\\PythonSoftwareFoundation.Python.3.11_3.11.1776.0_x64__qbz5n2kfra8p0\\Lib\\http\\client.py:482\u001b[0m, in \u001b[0;36mHTTPResponse.read\u001b[1;34m(self, amt)\u001b[0m\n\u001b[0;32m    480\u001b[0m \u001b[38;5;28;01melse\u001b[39;00m:\n\u001b[0;32m    481\u001b[0m     \u001b[38;5;28;01mtry\u001b[39;00m:\n\u001b[1;32m--> 482\u001b[0m         s \u001b[38;5;241m=\u001b[39m \u001b[38;5;28;43mself\u001b[39;49m\u001b[38;5;241;43m.\u001b[39;49m\u001b[43m_safe_read\u001b[49m\u001b[43m(\u001b[49m\u001b[38;5;28;43mself\u001b[39;49m\u001b[38;5;241;43m.\u001b[39;49m\u001b[43mlength\u001b[49m\u001b[43m)\u001b[49m\n\u001b[0;32m    483\u001b[0m     \u001b[38;5;28;01mexcept\u001b[39;00m IncompleteRead:\n\u001b[0;32m    484\u001b[0m         \u001b[38;5;28mself\u001b[39m\u001b[38;5;241m.\u001b[39m_close_conn()\n",
      "File \u001b[1;32mC:\\Program Files\\WindowsApps\\PythonSoftwareFoundation.Python.3.11_3.11.1776.0_x64__qbz5n2kfra8p0\\Lib\\http\\client.py:633\u001b[0m, in \u001b[0;36mHTTPResponse._safe_read\u001b[1;34m(self, amt)\u001b[0m\n\u001b[0;32m    631\u001b[0m data \u001b[38;5;241m=\u001b[39m \u001b[38;5;28mself\u001b[39m\u001b[38;5;241m.\u001b[39mfp\u001b[38;5;241m.\u001b[39mread(amt)\n\u001b[0;32m    632\u001b[0m \u001b[38;5;28;01mif\u001b[39;00m \u001b[38;5;28mlen\u001b[39m(data) \u001b[38;5;241m<\u001b[39m amt:\n\u001b[1;32m--> 633\u001b[0m     \u001b[38;5;28;01mraise\u001b[39;00m IncompleteRead(data, amt\u001b[38;5;241m-\u001b[39m\u001b[38;5;28mlen\u001b[39m(data))\n\u001b[0;32m    634\u001b[0m \u001b[38;5;28;01mreturn\u001b[39;00m data\n",
      "\u001b[1;31mIncompleteRead\u001b[0m: IncompleteRead(98304 bytes read, 3685851 more expected)"
     ]
    }
   ],
   "source": [
    "import pandas as pd\n",
    "from io import BytesIO\n",
    "from urllib.request import urlopen\n",
    "from zipfile import ZipFile\n",
    "\n",
    "url = 'https://snap.stanford.edu/data/wikipedia.zip'\n",
    "with urlopen(url) as zurl:\n",
    "    with ZipFile(BytesIO(zurl.read())) as zfile:\n",
    "        zfile.extractall('.')\n",
    "df = pd.read_csv('wikipedia/chameleon/musae_chameleon_target.csv')\n",
    "values = np.log10(df['target'])\n",
    "data.y = torch.tensor(values)\n",
    "data.y"
   ]
  },
  {
   "cell_type": "code",
   "execution_count": null,
   "id": "2f620552-27fc-4e26-9e36-8a2feecd97f2",
   "metadata": {},
   "outputs": [],
   "source": [
    "from torch_geometric.utils import degree\n",
    "from collections import Counter\n",
    "\n",
    "# Get list of degrees for each node\n",
    "degrees = degree(data.edge_index[0]).numpy()\n",
    "\n",
    "# Count the number of nodes for each degree\n",
    "numbers = Counter(degrees)\n",
    "\n",
    "# Bar plot\n",
    "fig, ax = plt.subplots()\n",
    "ax.set_xlabel('Node degree')\n",
    "ax.set_ylabel('Number of nodes')\n",
    "plt.bar(numbers.keys(), numbers.values())"
   ]
  },
  {
   "cell_type": "code",
   "execution_count": null,
   "id": "dcef8648-1fb1-4fb6-92b8-3330ac2ec8f9",
   "metadata": {},
   "outputs": [],
   "source": [
    "import seaborn as sns\n",
    "from scipy.stats import norm\n",
    "\n",
    "df['target'] = values\n",
    "fig = sns.distplot(df['target'], fit=norm)"
   ]
  },
  {
   "cell_type": "code",
   "execution_count": null,
   "id": "60d28637-d832-4df9-a6f5-aa725b87c304",
   "metadata": {},
   "outputs": [],
   "source": [
    "class GCN(torch.nn.Module):\n",
    "    \"\"\"Graph Convolutional Network\"\"\"\n",
    "    def __init__(self, dim_in, dim_h, dim_out):\n",
    "        super().__init__()\n",
    "        self.gcn1 = GCNConv(dim_in, dim_h*4)\n",
    "        self.gcn2 = GCNConv(dim_h*4, dim_h*2)\n",
    "        self.gcn3 = GCNConv(dim_h*2, dim_h)\n",
    "        self.linear = torch.nn.Linear(dim_h, dim_out)\n",
    "\n",
    "    def forward(self, x, edge_index):\n",
    "        h = self.gcn1(x, edge_index)\n",
    "        h = torch.relu(h)\n",
    "        h = F.dropout(h, p=0.5, training=self.training)\n",
    "        h = self.gcn2(h, edge_index)\n",
    "        h = torch.relu(h)\n",
    "        h = F.dropout(h, p=0.5, training=self.training)\n",
    "        h = self.gcn3(h, edge_index)\n",
    "        h = torch.relu(h)\n",
    "        h = self.linear(h)\n",
    "        return h\n",
    "\n",
    "    def fit(self, data, epochs): \n",
    "        optimizer = torch.optim.Adam(self.parameters(),\n",
    "                                      lr=0.02,\n",
    "                                      weight_decay=5e-4)\n",
    "\n",
    "        self.train()\n",
    "        for epoch in range(epochs+1):\n",
    "            optimizer.zero_grad()\n",
    "            out = self(data.x, data.edge_index)\n",
    "            loss = F.mse_loss(out.squeeze()[data.train_mask], data.y[data.train_mask].float())\n",
    "            loss.backward()\n",
    "            optimizer.step()\n",
    "            if epoch % 20 == 0:\n",
    "                val_loss = F.mse_loss(out.squeeze()[data.val_mask], data.y[data.val_mask])\n",
    "                print(f\"Epoch {epoch:>3} | Train Loss: {loss:.5f} | Val Loss: {val_loss:.5f}\")\n",
    "\n",
    "    def test(self, data):\n",
    "        self.eval()\n",
    "        out = self(data.x, data.edge_index)\n",
    "        return F.mse_loss(out.squeeze()[data.test_mask], data.y[data.test_mask].float())\n",
    "\n",
    "# Create the Vanilla GNN model\n",
    "gcn = GCN(dataset.num_features, 128, 1)\n",
    "print(gcn) \n",
    "\n",
    "# Train\n",
    "gcn.fit(data, epochs=200)\n",
    "\n",
    "# Test\n",
    "loss = gcn.test(data)\n",
    "print(f'\\nGCN test loss: {loss:.5f}\\n')"
   ]
  },
  {
   "cell_type": "code",
   "execution_count": null,
   "id": "cba74b76-3880-4e63-adbd-692f14aaf69a",
   "metadata": {},
   "outputs": [],
   "source": [
    "from sklearn.metrics import mean_squared_error, mean_absolute_error\n",
    "\n",
    "out = gcn(data.x, data.edge_index)\n",
    "y_pred = out.squeeze()[data.test_mask].detach().numpy()\n",
    "mse = mean_squared_error(data.y[data.test_mask], y_pred)\n",
    "mae = mean_absolute_error(data.y[data.test_mask], y_pred)\n",
    "\n",
    "print('=' * 43)\n",
    "print(f'MSE = {mse:.4f} | RMSE = {np.sqrt(mse):.4f} | MAE = {mae:.4f}')\n",
    "print('=' * 43)"
   ]
  },
  {
   "cell_type": "code",
   "execution_count": null,
   "id": "94aa5168-8b1d-4918-993d-15066bdddf11",
   "metadata": {},
   "outputs": [],
   "source": [
    "fig = sns.regplot(x=data.y[data.test_mask].numpy(), y=y_pred)\n",
    "fig.set(xlabel='Ground truth', ylabel='Predicted values')"
   ]
  },
  {
   "cell_type": "code",
   "execution_count": null,
   "id": "f09da73e-fb94-4cfd-8c51-c0e4bcacef48",
   "metadata": {},
   "outputs": [],
   "source": []
  },
  {
   "cell_type": "code",
   "execution_count": null,
   "id": "8f8e933a-abfd-4293-b57e-2c7233f04726",
   "metadata": {},
   "outputs": [],
   "source": []
  },
  {
   "cell_type": "code",
   "execution_count": null,
   "id": "197a79a5-fb76-44fd-b21e-77e21d5d4691",
   "metadata": {},
   "outputs": [],
   "source": []
  },
  {
   "cell_type": "code",
   "execution_count": null,
   "id": "094ceda2-b8a3-420f-ae8b-4b23ebff3878",
   "metadata": {},
   "outputs": [],
   "source": []
  },
  {
   "cell_type": "code",
   "execution_count": null,
   "id": "c099c4f0-2183-4a20-a3b2-9ebd57724726",
   "metadata": {},
   "outputs": [],
   "source": []
  },
  {
   "cell_type": "code",
   "execution_count": null,
   "id": "a26ec7ac-b688-41cb-8e9f-83068e0efe1b",
   "metadata": {},
   "outputs": [],
   "source": []
  },
  {
   "cell_type": "code",
   "execution_count": null,
   "id": "b56c4f6d-7c52-439f-8725-372220854981",
   "metadata": {},
   "outputs": [],
   "source": []
  },
  {
   "cell_type": "code",
   "execution_count": null,
   "id": "47a5a2f7-a3a3-4143-9a32-82a516040ea7",
   "metadata": {},
   "outputs": [],
   "source": []
  },
  {
   "cell_type": "code",
   "execution_count": null,
   "id": "85e21de7-9a0e-4618-a547-e4fd238f4fcc",
   "metadata": {},
   "outputs": [],
   "source": []
  },
  {
   "cell_type": "code",
   "execution_count": null,
   "id": "bc3ff963-e673-4be4-9ba9-4c7bea8361b5",
   "metadata": {},
   "outputs": [],
   "source": []
  },
  {
   "cell_type": "code",
   "execution_count": null,
   "id": "a39d39ab-d6f8-4b8b-919d-5c340636fc27",
   "metadata": {},
   "outputs": [],
   "source": []
  },
  {
   "cell_type": "code",
   "execution_count": null,
   "id": "29af510d-0fb1-430b-92d3-f9b8fcafba3d",
   "metadata": {},
   "outputs": [],
   "source": []
  }
 ],
 "metadata": {
  "kernelspec": {
   "display_name": "Python 3 (ipykernel)",
   "language": "python",
   "name": "python3"
  },
  "language_info": {
   "codemirror_mode": {
    "name": "ipython",
    "version": 3
   },
   "file_extension": ".py",
   "mimetype": "text/x-python",
   "name": "python",
   "nbconvert_exporter": "python",
   "pygments_lexer": "ipython3",
   "version": "3.11.6"
  }
 },
 "nbformat": 4,
 "nbformat_minor": 5
}
