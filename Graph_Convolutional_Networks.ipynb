{
 "cells": [
  {
   "cell_type": "markdown",
   "id": "2a0bce71-2da7-4643-8132-cb94996cae3f",
   "metadata": {},
   "source": [
    "# Graph Convolution Network\n",
    "\n",
    "*Graph Convolution Network (GCN)* architecture is the blueprint of what a GNN looks like.\n",
    "\n",
    "(Ref. Kipf and Welling in 2017), it is based on the idea of creating an efficient variant of Convolution Neural Networks (CNNs) applied to graphs.\n",
    "\n",
    "More accurately, it is an approximation of a graph convolution operation in graph signal processing.\n",
    "\n",
    "More generally, it is the architecture of choice to create a solid baseline when dealing with graph data."
   ]
  },
  {
   "cell_type": "markdown",
   "id": "1dadc029-5a0e-447f-80ea-51c369fbfbf9",
   "metadata": {},
   "source": [
    "---\n",
    "\n",
    "\"We use the degree matrix to Normalize how to calculate embeddings for a node.\""
   ]
  },
  {
   "cell_type": "code",
   "execution_count": 3,
   "id": "93903585-2d9e-4437-8e76-6c51171cfba5",
   "metadata": {},
   "outputs": [
    {
     "data": {
      "text/plain": [
       "array([[3, 0, 0, 0],\n",
       "       [0, 1, 0, 0],\n",
       "       [0, 0, 2, 0],\n",
       "       [0, 0, 0, 2]])"
      ]
     },
     "execution_count": 3,
     "metadata": {},
     "output_type": "execute_result"
    }
   ],
   "source": [
    "import numpy as np\n",
    "\n",
    "D = np.array([[3, 0, 0, 0], [0, 1, 0, 0], [0, 0, 2, 0], [0, 0, 0, 2]]) # D matrix -> degree matrix counts the number of neighbours for each node.\n",
    "\n",
    "D # D gives us the degree of each node, deg(i). Therefore, the inverse of this Matrix D^-1 directly gives us the normalization coefficients 1/deg(i)"
   ]
  },
  {
   "cell_type": "code",
   "execution_count": 6,
   "id": "ba82322e-fd3f-45bb-a792-67e7b2462412",
   "metadata": {},
   "outputs": [
    {
     "data": {
      "text/plain": [
       "array([[0.33333333, 0.        , 0.        , 0.        ],\n",
       "       [0.        , 1.        , 0.        , 0.        ],\n",
       "       [0.        , 0.        , 0.5       , 0.        ],\n",
       "       [0.        , 0.        , 0.        , 0.5       ]])"
      ]
     },
     "execution_count": 6,
     "metadata": {},
     "output_type": "execute_result"
    }
   ],
   "source": [
    "D_inv = np.linalg.inv(D)\n",
    "\n",
    "D_inv\n",
    "\n",
    "# We should add self loops to the degree matrix : D` = D + I\n",
    "\n",
    "# The final matrix we are actually interested in D`^-1 = (D+I)^-1"
   ]
  },
  {
   "cell_type": "code",
   "execution_count": 10,
   "id": "cf5db494-3b99-4012-be35-6abd4a687ead",
   "metadata": {},
   "outputs": [
    {
     "data": {
      "text/plain": [
       "array([[0.25      , 0.        , 0.        , 0.        ],\n",
       "       [0.        , 0.5       , 0.        , 0.        ],\n",
       "       [0.        , 0.        , 0.33333333, 0.        ],\n",
       "       [0.        , 0.        , 0.        , 0.33333333]])"
      ]
     },
     "execution_count": 10,
     "metadata": {},
     "output_type": "execute_result"
    }
   ],
   "source": [
    "D_tilda_inv = np.linalg.inv(D + np.identity(4))\n",
    "\n",
    "D_tilda_inv"
   ]
  },
  {
   "cell_type": "markdown",
   "id": "e921ebf1-72ce-4e85-9530-f6d0c6cd0a62",
   "metadata": {},
   "source": [
    "- $ \\tilde{D^{-1}} \\tilde{A} X W^{T} $ will normalize every row of features\n",
    "\n",
    "- $  \\tilde{A} \\tilde{D^{-1}} X W^{T} $ will normalize every column of features"
   ]
  },
  {
   "cell_type": "code",
   "execution_count": 14,
   "id": "c80fd6ef-8252-4362-83fe-e2d7d1178216",
   "metadata": {},
   "outputs": [
    {
     "name": "stdout",
     "output_type": "stream",
     "text": [
      "[[0.25       0.25       0.25       0.25      ]\n",
      " [0.5        0.5        0.         0.        ]\n",
      " [0.33333333 0.         0.33333333 0.33333333]\n",
      " [0.33333333 0.         0.33333333 0.33333333]]\n",
      "\n",
      "\n",
      "[[0.25       0.5        0.33333333 0.33333333]\n",
      " [0.25       0.5        0.         0.        ]\n",
      " [0.25       0.         0.33333333 0.33333333]\n",
      " [0.25       0.         0.33333333 0.33333333]]\n"
     ]
    }
   ],
   "source": [
    "A = np.array([[1, 1, 1, 1], [1, 1, 0, 0], [1, 0, 1, 1], [1, 0, 1, 1]])\n",
    "\n",
    "print(np.linalg.inv(D + np.identity(4)) @ A)\n",
    "print(\"\\n\")\n",
    "print(A @ np.linalg.inv(D + np.identity(4)))"
   ]
  },
  {
   "cell_type": "markdown",
   "id": "fb8dddd7-dfa1-4e63-afb4-583d7321f352",
   "metadata": {},
   "source": [
    "The first option looks more appealing because it nicely normalizes neighboring (row) node features and not the single (column) feature"
   ]
  },
  {
   "cell_type": "markdown",
   "id": "4779c768-dfeb-4344-955d-a45e646ed06a",
   "metadata": {},
   "source": [
    "However, Kipf and Welling noticed that features from nodes with a lot of neighbors spread very easily, unlike features from more isolated nodes. In the original GCN paper, the authors proposed a hybrid normalization to counterbalance this effect. In practice, they assign higher weights to nodes with few neighbors using the following formula:\n",
    "\n",
    "$$ H = \\tilde{D}^{-1/2} \\tilde{A}^{T} \\tilde{D}^{-1/2} X W^{T}$$"
   ]
  },
  {
   "cell_type": "markdown",
   "id": "29dedb12-ad73-456c-9e15-4bcaf0e78e9a",
   "metadata": {},
   "source": [
    "In terms of individual embeddings, this operation can be written as follows:\n",
    "\n",
    "$ h_{i} = \\sum_{j \\in N_{i}} \\frac{1}{\\sqrt[]{deg(i)}} \\frac{1}{\\sqrt[]{deg(j)}} x_{j} W^{T} $\n",
    "\n",
    "Those are the original formulas to implement a graph convolutional layer. As with our Vanilla GNN layer, we can stack these layers to create a GCN."
   ]
  },
  {
   "cell_type": "markdown",
   "id": "fc674501-9d1d-43f6-a8b7-4589f735da06",
   "metadata": {},
   "source": [
    "## Implementing GCN"
   ]
  },
  {
   "cell_type": "code",
   "execution_count": null,
   "id": "0e181896-421e-4ee7-9482-a177d85dd9ee",
   "metadata": {},
   "outputs": [],
   "source": []
  },
  {
   "cell_type": "code",
   "execution_count": null,
   "id": "70121064-585a-41a2-b318-73098f42c9ba",
   "metadata": {},
   "outputs": [],
   "source": []
  },
  {
   "cell_type": "code",
   "execution_count": null,
   "id": "94885e34-a5f2-4b1a-9dce-866ee12e06dc",
   "metadata": {},
   "outputs": [],
   "source": []
  },
  {
   "cell_type": "code",
   "execution_count": null,
   "id": "5014a1a4-cc0a-45b4-9164-f74359c52201",
   "metadata": {},
   "outputs": [],
   "source": []
  },
  {
   "cell_type": "code",
   "execution_count": null,
   "id": "2f56a111-d8b8-47ea-9877-e38b3891323c",
   "metadata": {},
   "outputs": [],
   "source": []
  },
  {
   "cell_type": "code",
   "execution_count": null,
   "id": "060653da-dd20-4329-8298-8469be7b90de",
   "metadata": {},
   "outputs": [],
   "source": []
  },
  {
   "cell_type": "code",
   "execution_count": null,
   "id": "a0569352-4487-4515-82c9-9bfa2c07c57d",
   "metadata": {},
   "outputs": [],
   "source": []
  },
  {
   "cell_type": "code",
   "execution_count": null,
   "id": "f6d2df9c-8e43-4fb5-abb4-0ff7942152cc",
   "metadata": {},
   "outputs": [],
   "source": []
  },
  {
   "cell_type": "code",
   "execution_count": null,
   "id": "971dea65-de66-4313-b988-02c516cf7835",
   "metadata": {},
   "outputs": [],
   "source": []
  },
  {
   "cell_type": "code",
   "execution_count": null,
   "id": "417302cf-5012-4b6e-b719-5339c6724545",
   "metadata": {},
   "outputs": [],
   "source": []
  },
  {
   "cell_type": "code",
   "execution_count": null,
   "id": "71fa498c-b612-4e94-88e3-6139b46e5735",
   "metadata": {},
   "outputs": [],
   "source": []
  },
  {
   "cell_type": "code",
   "execution_count": null,
   "id": "037c1186-b7fa-4eba-b6f4-b28035640eaa",
   "metadata": {},
   "outputs": [],
   "source": []
  },
  {
   "cell_type": "code",
   "execution_count": null,
   "id": "350aa729-e29b-4198-8fdc-363ab78a8a89",
   "metadata": {},
   "outputs": [],
   "source": []
  },
  {
   "cell_type": "code",
   "execution_count": null,
   "id": "10081f30-a65c-4712-a53f-120ead3bd168",
   "metadata": {},
   "outputs": [],
   "source": []
  },
  {
   "cell_type": "code",
   "execution_count": null,
   "id": "19778cfe-c7ba-499e-a73e-e18d2953f48a",
   "metadata": {},
   "outputs": [],
   "source": []
  },
  {
   "cell_type": "code",
   "execution_count": null,
   "id": "fa7ab5f4-1897-40be-8187-2b1d1f42f175",
   "metadata": {},
   "outputs": [],
   "source": []
  },
  {
   "cell_type": "code",
   "execution_count": null,
   "id": "2f620552-27fc-4e26-9e36-8a2feecd97f2",
   "metadata": {},
   "outputs": [],
   "source": []
  },
  {
   "cell_type": "code",
   "execution_count": null,
   "id": "dcef8648-1fb1-4fb6-92b8-3330ac2ec8f9",
   "metadata": {},
   "outputs": [],
   "source": []
  },
  {
   "cell_type": "code",
   "execution_count": null,
   "id": "60d28637-d832-4df9-a6f5-aa725b87c304",
   "metadata": {},
   "outputs": [],
   "source": []
  },
  {
   "cell_type": "code",
   "execution_count": null,
   "id": "cba74b76-3880-4e63-adbd-692f14aaf69a",
   "metadata": {},
   "outputs": [],
   "source": []
  },
  {
   "cell_type": "code",
   "execution_count": null,
   "id": "94aa5168-8b1d-4918-993d-15066bdddf11",
   "metadata": {},
   "outputs": [],
   "source": []
  },
  {
   "cell_type": "code",
   "execution_count": null,
   "id": "f09da73e-fb94-4cfd-8c51-c0e4bcacef48",
   "metadata": {},
   "outputs": [],
   "source": []
  },
  {
   "cell_type": "code",
   "execution_count": null,
   "id": "8f8e933a-abfd-4293-b57e-2c7233f04726",
   "metadata": {},
   "outputs": [],
   "source": []
  },
  {
   "cell_type": "code",
   "execution_count": null,
   "id": "197a79a5-fb76-44fd-b21e-77e21d5d4691",
   "metadata": {},
   "outputs": [],
   "source": []
  },
  {
   "cell_type": "code",
   "execution_count": null,
   "id": "094ceda2-b8a3-420f-ae8b-4b23ebff3878",
   "metadata": {},
   "outputs": [],
   "source": []
  },
  {
   "cell_type": "code",
   "execution_count": null,
   "id": "c099c4f0-2183-4a20-a3b2-9ebd57724726",
   "metadata": {},
   "outputs": [],
   "source": []
  },
  {
   "cell_type": "code",
   "execution_count": null,
   "id": "a26ec7ac-b688-41cb-8e9f-83068e0efe1b",
   "metadata": {},
   "outputs": [],
   "source": []
  },
  {
   "cell_type": "code",
   "execution_count": null,
   "id": "b56c4f6d-7c52-439f-8725-372220854981",
   "metadata": {},
   "outputs": [],
   "source": []
  },
  {
   "cell_type": "code",
   "execution_count": null,
   "id": "47a5a2f7-a3a3-4143-9a32-82a516040ea7",
   "metadata": {},
   "outputs": [],
   "source": []
  },
  {
   "cell_type": "code",
   "execution_count": null,
   "id": "85e21de7-9a0e-4618-a547-e4fd238f4fcc",
   "metadata": {},
   "outputs": [],
   "source": []
  },
  {
   "cell_type": "code",
   "execution_count": null,
   "id": "bc3ff963-e673-4be4-9ba9-4c7bea8361b5",
   "metadata": {},
   "outputs": [],
   "source": []
  },
  {
   "cell_type": "code",
   "execution_count": null,
   "id": "a39d39ab-d6f8-4b8b-919d-5c340636fc27",
   "metadata": {},
   "outputs": [],
   "source": []
  },
  {
   "cell_type": "code",
   "execution_count": null,
   "id": "29af510d-0fb1-430b-92d3-f9b8fcafba3d",
   "metadata": {},
   "outputs": [],
   "source": []
  }
 ],
 "metadata": {
  "kernelspec": {
   "display_name": "Python 3 (ipykernel)",
   "language": "python",
   "name": "python3"
  },
  "language_info": {
   "codemirror_mode": {
    "name": "ipython",
    "version": 3
   },
   "file_extension": ".py",
   "mimetype": "text/x-python",
   "name": "python",
   "nbconvert_exporter": "python",
   "pygments_lexer": "ipython3",
   "version": "3.11.6"
  }
 },
 "nbformat": 4,
 "nbformat_minor": 5
}
