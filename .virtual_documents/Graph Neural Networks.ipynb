


import networkx as nx





# Creating an undirected graph G
Graph = nx.Graph()
print(Graph.is_directed())

# Create a directed graph H
Directed_Graph = nx.DiGraph()
print(Directed_Graph.is_directed())

# Add graph level attribute
Graph.graph["Name"] = "Bar"
print(Graph.graph)





# Add one node with node level attributes
Graph.add_node(0, feature=5, label=0)

Graph.add_node(1, feature=1, label=1)
Graph.add_node(0, feature=2, label=2)

# Get attributes of the node 0
node_0_attr = Graph.nodes[0]
print("Node 0 has the attributes {}".format(node_0_attr))


Graph.nodes(data = True)


# Add multiple nodes with attributes
Graph.add_nodes_from([
  (4, {"feature": 4, "label": 4}),
  (6, {"feature": 6, "label": 6})
]) #(node, attrdict)

# Loop through all the nodes

# Set data=True will return node attributes
for node in Graph.nodes(data=True):
  print(node)

# Get number of nodes
num_nodes = Graph.number_of_nodes()
print("Graph has {} nodes".format(num_nodes))






Graph.add_edge(0, 1, weight=0.5)

# Get attributes of the edge (0, 1)

edge_0_1_attr = Graph.edges[(0, 1)]

print("Edge (0, 1) has the attributes {}".format(edge_0_1_attr))


# Add multiple edges with edge weights
Graph.add_edges_from([
  (1, 2, {"weight": 0.3}),
  (2, 0, {"weight": 0.1})
])

# Loop through all the edges
# Here there is no data=True, so only the edge will be returned
for edge in Graph.edges():
  print(edge)

# Get number of edges
num_edges = Graph.number_of_edges()
print("G has {} edges".format(num_edges))





# Drawing the Graph

nx.draw(Graph, with_labels = True)





node_id = 1

# Degree of node 1
print("Node {} has degree {}".format(node_id, Graph.degree[node_id]))

# Get neighbor of node 1
for neighbor in Graph.neighbors(node_id):
  print("Node {} has neighbor {}".format(node_id, neighbor))





nx.path_graph(num_nodes)


num_nodes = 4

# Creating a new path like graph and changing it to a directed graph
G = nx.DiGraph(nx.path_graph(num_nodes))
nx.draw(G, with_labels = True)

# Getting the pagerank
pr = nx.pagerank(G, alpha = 0.75)
pr








import torch

print("PyTorch Version {}".format(torch.__version__))


%matplotlib inline

import matplotlib.pyplot as plt


# Visualization function for NX graph or PyTorch tensor
def visualize(h, color, epoch=None, loss=None, accuracy=None):
    plt.figure(figsize=(7,7))
    plt.xticks([])
    plt.yticks([])

    if torch.is_tensor(h):
        h = h.detach().cpu().numpy()
        plt.scatter(h[:, 0], h[:, 1], s=140, c=color, cmap="Set2")
        if epoch is not None and loss is not None and accuracy['train'] is not None and accuracy['val'] is not None:
            plt.xlabel((f'Epoch: {epoch}, Loss: {loss.item():.4f} \n'
                       f'Training Accuracy: {accuracy["train"]*100:.2f}% \n'
                       f' Validation Accuracy: {accuracy["val"]*100:.2f}%'),
                       fontsize=16)
    else:
        nx.draw_networkx(h, pos=nx.spring_layout(h, seed=42), with_labels=False,
                         node_color=color, cmap="Set2")
    plt.show()








from torch_geometric.datasets import KarateClub

dataset = KarateClub()

def linesep():
    print(f'Dataset: {dataset}:')
    for i in range(50):
        print('=', end = "")
    print("\n")
print(f'Number of graphs: {len(dataset)}')
print(f'Number of features: {dataset.num_features}')
print(f'Number of classes: {dataset.num_classes}')


data = dataset[0] # getting the first graph object

linesep()

# Gather some statistics about the graph.

print(f'Number of nodes: {data.num_nodes}')
print(f'Number of edges: {data.num_edges}')

print(f'Average node degree: {(2*data.num_edges) / data.num_nodes:.2f}')

print(f'Number of training nodes: {data.train_mask.sum()}')
print(f'Training node label rate: {int(data.train_mask.sum()) / data.num_nodes:.2f}')
print(f'Contains isolated nodes: {data.has_isolated_nodes()}')
print(f'Contains self-loops: {data.has_self_loops()}')
print(f'Is undirected: {data.is_undirected()}')



data.edge_index.T





print(data)








from IPython.display import Javascript
edge_index = data.edge_index
print(edge_index.t())





from torch_geometric.utils import to_networkx

G = to_networkx(data, to_undirected = True)
visualize(G, color = data.y)








from torch.nn import Linear
from torch_geometric.nn import GCNConv


class GCN(torch.nn.Module):
    def __init__(self):
        super().__init__()
        torch.manual_seed(1234) # for reproducibility
        self.conv1 = GCNConv(dataset.num_features, 4)
        self.conv2 = GCNConv(4, 4)
        self.conv3 = GCNConv(4, 2)
        self.classifier = Linear(2, dataset.num_classes)
        
    def forward(self, x, edge_index):
        h = self.conv1(x, edge_index)
        h = h.tanh()
        h = self.conv2(h, edge_index)
        h = h.tanh()
        h = self.conv3(h, edge_index)
        h = h.tanh()  # Final GNN embedding space.
        
        # Apply a final (linear) classifier.
        out = self.classifier(h)

        return out, h

model = GCN()
print(model)





model = GCN()

_, h = model(data.x, data.edge_index)
print(f'Embedding shape: {list(h.shape)}')

visualize(h, color=data.y)








import time
from IPython.display import Javascript  # Restrict height of output cell.

model = GCN()

criterion = torch.nn.CrossEntropyLoss()  # Define loss criterion.
optimizer = torch.optim.Adam(model.parameters(), lr=0.01)  # Define optimizer.

def train(data):
    optimizer.zero_grad()  # Clear gradients.
    out, h = model(data.x, data.edge_index)  # Perform a single forward pass.
    loss = criterion(out[data.train_mask], data.y[data.train_mask])  # Compute the loss solely based on the training nodes.
    loss.backward()  # Derive gradients.
    optimizer.step()  # Update parameters based on gradients.

    accuracy = {}
    # Calculate training accuracy on our four examples
    predicted_classes = torch.argmax(out[data.train_mask], axis=1) # [0.6, 0.2, 0.7, 0.1] -> 2
    target_classes = data.y[data.train_mask]
    accuracy['train'] = torch.mean(
        torch.where(predicted_classes == target_classes, 1, 0).float())
    
    # Calculate validation accuracy on the whole graph
    predicted_classes = torch.argmax(out, axis=1)
    target_classes = data.y
    accuracy['val'] = torch.mean(
        torch.where(predicted_classes == target_classes, 1, 0).float())

    return loss, h, accuracy

for epoch in range(501):
    loss, h, accuracy = train(data)
    # Visualize the node embeddings every 10 epochs
    if epoch % 10 == 0:
        visualize(h, color=data.y, epoch=epoch, loss=loss, accuracy=accuracy)
        time.sleep(0.3)




























































