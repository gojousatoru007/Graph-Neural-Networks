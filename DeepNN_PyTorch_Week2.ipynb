{
 "cells": [
  {
   "cell_type": "markdown",
   "id": "b7db1b8e-05fe-4ec3-a762-185fc89fd433",
   "metadata": {},
   "source": [
    "# Week 2"
   ]
  },
  {
   "cell_type": "markdown",
   "id": "8c8e8bbd-033a-4182-a1d2-23d1dffbea48",
   "metadata": {},
   "source": [
    "## Linear Regression"
   ]
  },
  {
   "cell_type": "code",
   "execution_count": 81,
   "id": "bb22c073-1095-4bb8-b662-aa9de36b6f31",
   "metadata": {},
   "outputs": [],
   "source": [
    "# Linear Regression -> Helps to understand relationship between 2 variables (dependent y and independent x)\n",
    "\n",
    "# y = b + w x\n",
    "# b : bias\n",
    "# w : slope / wieght\n",
    "# model: models the relationship between x and y\n",
    "\n",
    "# yhat = 1 - 3 x\n",
    "\n",
    "# Step 1 : Train\n",
    "\n",
    "# Step 2 : Forward"
   ]
  },
  {
   "cell_type": "code",
   "execution_count": 82,
   "id": "c1d2ba6d-8b2a-4e75-9bf0-a3bb5fe6ab43",
   "metadata": {},
   "outputs": [
    {
     "data": {
      "text/plain": [
       "tensor([1.], grad_fn=<AddBackward0>)"
      ]
     },
     "execution_count": 82,
     "metadata": {},
     "output_type": "execute_result"
    }
   ],
   "source": [
    "import torch\n",
    "\n",
    "w = torch.tensor(2.0, requires_grad = True)\n",
    "b = torch.tensor(-1.0, requires_grad = True)\n",
    "\n",
    "def forward(x):\n",
    "    y = w*x + b\n",
    "    return y\n",
    "\n",
    "x = torch.tensor([1.0])\n",
    "\n",
    "yhat = forward(x)\n",
    "yhat"
   ]
  },
  {
   "cell_type": "code",
   "execution_count": 83,
   "id": "f431dd95-eda1-4d9e-98e1-16c1a27055b9",
   "metadata": {},
   "outputs": [
    {
     "data": {
      "text/plain": [
       "tensor([[1.],\n",
       "        [3.]], grad_fn=<AddBackward0>)"
      ]
     },
     "execution_count": 83,
     "metadata": {},
     "output_type": "execute_result"
    }
   ],
   "source": [
    "x = torch.tensor([[1], [2]])\n",
    "\n",
    "yhat = forward(x)\n",
    "\n",
    "yhat"
   ]
  },
  {
   "cell_type": "code",
   "execution_count": 84,
   "id": "796c17ca-ede9-4d6a-b786-20cff525409a",
   "metadata": {},
   "outputs": [
    {
     "name": "stdout",
     "output_type": "stream",
     "text": [
      "[Parameter containing:\n",
      "tensor([[0.5153]], requires_grad=True), Parameter containing:\n",
      "tensor([-0.4414], requires_grad=True)]\n"
     ]
    },
    {
     "data": {
      "text/plain": [
       "tensor([-0.4414], grad_fn=<ViewBackward0>)"
      ]
     },
     "execution_count": 84,
     "metadata": {},
     "output_type": "execute_result"
    }
   ],
   "source": [
    "from torch.nn import Linear\n",
    "\n",
    "torch.manual_seed(1)\n",
    "\n",
    "model = Linear(in_features = 1, out_features = 1)\n",
    "\n",
    "print(list(model.parameters()))\n",
    "\n",
    "x = torch.tensor([0.0])\n",
    "\n",
    "yhat = model(x)\n",
    "\n",
    "yhat"
   ]
  },
  {
   "cell_type": "code",
   "execution_count": 85,
   "id": "f39e4e63-54c1-46ea-89cb-79f8f32d4c1b",
   "metadata": {},
   "outputs": [
    {
     "data": {
      "text/plain": [
       "tensor([[0.0739],\n",
       "        [0.5891]], grad_fn=<AddmmBackward0>)"
      ]
     },
     "execution_count": 85,
     "metadata": {},
     "output_type": "execute_result"
    }
   ],
   "source": [
    "x = torch.tensor([[1.0], [2.0]])\n",
    "\n",
    "yhat = model(x)\n",
    "\n",
    "yhat"
   ]
  },
  {
   "cell_type": "code",
   "execution_count": 86,
   "id": "1d88f0b1-a6ac-4551-a20f-5801090db343",
   "metadata": {},
   "outputs": [
    {
     "data": {
      "text/plain": [
       "tensor([0.0739], grad_fn=<ViewBackward0>)"
      ]
     },
     "execution_count": 86,
     "metadata": {},
     "output_type": "execute_result"
    }
   ],
   "source": [
    "# Custom Modules\n",
    "\n",
    "import torch.nn as nn\n",
    "\n",
    "class LR(nn.Module):\n",
    "    def __init__(self, in_size, output_size):\n",
    "        super(LR, self).__init__()\n",
    "        self.linear = nn.Linear(in_size, output_size)\n",
    "    def forward(self, x):\n",
    "        out = self.linear(x)\n",
    "        return out\n",
    "\n",
    "\n",
    "model = LR(1, 1)\n",
    "\n",
    "model.state_dict()['linear.weight'].data[0] = torch.tensor([[0.5153]])\n",
    "model.state_dict()['linear.bias'].data[0] = torch.tensor([[-0.4414]])\n",
    "\n",
    "# we can change this\n",
    "\n",
    "x = torch.tensor([1.0])\n",
    "\n",
    "yhat = model(x)\n",
    "yhat\n",
    "\n"
   ]
  },
  {
   "cell_type": "code",
   "execution_count": 87,
   "id": "db4bde7c-14d3-4888-9a64-e76b5a65f261",
   "metadata": {},
   "outputs": [
    {
     "data": {
      "text/plain": [
       "tensor([[0.0739],\n",
       "        [0.5892]], grad_fn=<AddmmBackward0>)"
      ]
     },
     "execution_count": 87,
     "metadata": {},
     "output_type": "execute_result"
    }
   ],
   "source": [
    "x = torch.tensor([[1.0], [2.0]])\n",
    "\n",
    "yhat = model(x)\n",
    "\n",
    "yhat \n"
   ]
  },
  {
   "cell_type": "code",
   "execution_count": 88,
   "id": "e1dc099d-7cda-45ea-9c1e-3e4d1e18f89c",
   "metadata": {},
   "outputs": [
    {
     "data": {
      "text/plain": [
       "OrderedDict([('linear.weight', tensor([[0.5153]])),\n",
       "             ('linear.bias', tensor([-0.4414]))])"
      ]
     },
     "execution_count": 88,
     "metadata": {},
     "output_type": "execute_result"
    }
   ],
   "source": [
    "model.state_dict()"
   ]
  },
  {
   "cell_type": "code",
   "execution_count": 89,
   "id": "36d19319-2498-40df-983b-e717502bae82",
   "metadata": {},
   "outputs": [
    {
     "data": {
      "text/plain": [
       "odict_keys(['linear.weight', 'linear.bias'])"
      ]
     },
     "execution_count": 89,
     "metadata": {},
     "output_type": "execute_result"
    }
   ],
   "source": [
    "model.state_dict().keys()\n"
   ]
  },
  {
   "cell_type": "code",
   "execution_count": 90,
   "id": "4e116e33-9d7f-460a-b2a4-8bd3b3367304",
   "metadata": {},
   "outputs": [
    {
     "data": {
      "text/plain": [
       "odict_values([tensor([[0.5153]]), tensor([-0.4414])])"
      ]
     },
     "execution_count": 90,
     "metadata": {},
     "output_type": "execute_result"
    }
   ],
   "source": [
    "model.state_dict().values()"
   ]
  },
  {
   "cell_type": "markdown",
   "id": "f9d1fe89-e371-42e0-a22f-429ad9032c93",
   "metadata": {},
   "source": [
    "### Learning Parameters / Training"
   ]
  },
  {
   "cell_type": "code",
   "execution_count": 91,
   "id": "08f8459b-54b7-447f-9c77-c4c5ebd6f0d4",
   "metadata": {},
   "outputs": [],
   "source": [
    "# D = {(x1, y1), ....., (xn, yn)}\n",
    "\n",
    "# Assumption, Noise for Linear Regression is Gaussian\n",
    "\n",
    "# Loss is a precursor to Cost"
   ]
  },
  {
   "cell_type": "code",
   "execution_count": 92,
   "id": "9a6c645b-ac5f-411d-b006-7d0e4a89364b",
   "metadata": {},
   "outputs": [],
   "source": [
    "# loss is a function of parameter\n",
    "# Loss is a measure of how good our estimation is\n",
    "\n",
    "# find minima in the parameter space"
   ]
  },
  {
   "cell_type": "code",
   "execution_count": 93,
   "id": "22cba5f8-405c-4c1b-80e8-ff29f353db18",
   "metadata": {},
   "outputs": [],
   "source": [
    "# Gradient Descent, LR and Stopping Criteria\n",
    "\n",
    "# Cost is just average loss so it's still a function of our parameters\n",
    "\n"
   ]
  },
  {
   "cell_type": "code",
   "execution_count": 94,
   "id": "0410da75-7b38-4990-a0e3-82dc385a2e2b",
   "metadata": {},
   "outputs": [
    {
     "data": {
      "image/png": "[encoded data removed]",
      "text/plain": [
       "<Figure size 640x480 with 1 Axes>"
      ]
     },
     "metadata": {},
     "output_type": "display_data"
    }
   ],
   "source": [
    "import torch\n",
    "import matplotlib.pyplot as plt\n",
    "\n",
    "w = torch.tensor(-10.0, requires_grad = True)\n",
    "\n",
    "X = torch.arange(-3, 3, 0.1).view(-1, 1)\n",
    "f = -3 * X\n",
    "\n",
    "plt.plot(X.numpy(), f.numpy())\n",
    "plt.show()"
   ]
  },
  {
   "cell_type": "code",
   "execution_count": 95,
   "id": "d6b95419-d2bb-4e5e-9489-fe1e93866dd1",
   "metadata": {},
   "outputs": [
    {
     "data": {
      "image/png": "[encoded data removed]",
      "text/plain": [
       "<Figure size 640x480 with 1 Axes>"
      ]
     },
     "metadata": {},
     "output_type": "display_data"
    }
   ],
   "source": [
    "Y = f + 0.1*torch.randn(X.size())\n",
    "plt.plot(X.numpy(), Y.numpy(), 'ro')\n",
    "plt.show()"
   ]
  },
  {
   "cell_type": "code",
   "execution_count": 96,
   "id": "b5392a4f-8c19-4f7c-b845-26b4167a7812",
   "metadata": {},
   "outputs": [],
   "source": [
    "def forward(x):\n",
    "    return w*x\n",
    "\n",
    "\n",
    "def criterion(yhat, y):\n",
    "    return torch.mean((yhat - y)**2)\n",
    "\n",
    "lr = 0.1\n",
    "COST = []\n",
    "for epoch in range(3):\n",
    "    Yhat = forward(X)\n",
    "    loss = criterion(Yhat, Y)\n",
    "    loss.backward() # differentiate loss \n",
    "\n",
    "    w.data = w.data - lr*w.grad.data # w.data means the data contained in the variable w\n",
    "    w.grad.data.zero_() # setting gradient to 0 for the next calculation\n",
    "    COST.append(loss.item()) # maintaining cost (avg loss)\n"
   ]
  },
  {
   "cell_type": "code",
   "execution_count": null,
   "id": "6c2547c4-7fa9-46f2-a784-f23873927bb5",
   "metadata": {},
   "outputs": [],
   "source": []
  },
  {
   "cell_type": "code",
   "execution_count": null,
   "id": "3d6cf7d6-9580-460d-af7a-f46e6640c632",
   "metadata": {},
   "outputs": [],
   "source": []
  },
  {
   "cell_type": "code",
   "execution_count": null,
   "id": "53318a25-9883-4b50-a25c-da159facfcbf",
   "metadata": {},
   "outputs": [],
   "source": []
  },
  {
   "cell_type": "code",
   "execution_count": null,
   "id": "f9e9cfee-53ed-4595-a709-42a270f3a364",
   "metadata": {},
   "outputs": [],
   "source": []
  },
  {
   "cell_type": "code",
   "execution_count": null,
   "id": "bf7e2463-bdfe-48c0-9a76-fdb3f8311b66",
   "metadata": {},
   "outputs": [],
   "source": []
  },
  {
   "cell_type": "code",
   "execution_count": null,
   "id": "7b81e8ec-f25c-4439-8454-ae12d5bcf9d0",
   "metadata": {},
   "outputs": [],
   "source": []
  },
  {
   "cell_type": "code",
   "execution_count": null,
   "id": "c2d43218-76d3-4940-b5d1-3e3f493f21c0",
   "metadata": {},
   "outputs": [],
   "source": []
  },
  {
   "cell_type": "code",
   "execution_count": null,
   "id": "88416ffa-f819-4f1b-a773-68b1ee6c89ae",
   "metadata": {},
   "outputs": [],
   "source": []
  },
  {
   "cell_type": "code",
   "execution_count": null,
   "id": "b097b31c-7c9e-49eb-8b21-81c90bc431bf",
   "metadata": {},
   "outputs": [],
   "source": []
  },
  {
   "cell_type": "code",
   "execution_count": null,
   "id": "06bb49c4-4ae7-430a-864c-0afc77b7ded1",
   "metadata": {},
   "outputs": [],
   "source": []
  },
  {
   "cell_type": "code",
   "execution_count": null,
   "id": "a1753507-a889-43b2-b0c8-4a50c3683f9f",
   "metadata": {},
   "outputs": [],
   "source": []
  },
  {
   "cell_type": "code",
   "execution_count": null,
   "id": "c860ffaa-ced2-4bc2-9fb2-66af9037fc0e",
   "metadata": {},
   "outputs": [],
   "source": []
  },
  {
   "cell_type": "code",
   "execution_count": null,
   "id": "2f7dfba0-3bd7-4e85-8fed-9788cfdb313d",
   "metadata": {},
   "outputs": [],
   "source": []
  },
  {
   "cell_type": "code",
   "execution_count": null,
   "id": "ea8cff52-b890-4a31-a09a-667c266022cb",
   "metadata": {},
   "outputs": [],
   "source": []
  },
  {
   "cell_type": "code",
   "execution_count": null,
   "id": "32360036-1929-460a-8c36-432016202221",
   "metadata": {},
   "outputs": [],
   "source": []
  },
  {
   "cell_type": "code",
   "execution_count": null,
   "id": "a4e34070-d304-46cb-9087-1c6061b3ec7c",
   "metadata": {},
   "outputs": [],
   "source": []
  },
  {
   "cell_type": "code",
   "execution_count": null,
   "id": "71e4c267-05d0-4533-8d21-a625491caa02",
   "metadata": {},
   "outputs": [],
   "source": []
  },
  {
   "cell_type": "code",
   "execution_count": null,
   "id": "a05a58a2-60c0-42aa-81ee-4d5eed24d8ac",
   "metadata": {},
   "outputs": [],
   "source": []
  },
  {
   "cell_type": "code",
   "execution_count": null,
   "id": "dfe7c596-5099-4c13-a59a-421ec12d18ce",
   "metadata": {},
   "outputs": [],
   "source": []
  },
  {
   "cell_type": "code",
   "execution_count": null,
   "id": "0bc7104d-51a9-4dbf-b9b8-37a01301ca52",
   "metadata": {},
   "outputs": [],
   "source": []
  },
  {
   "cell_type": "code",
   "execution_count": null,
   "id": "023d92eb-d306-41af-a924-a147e03788e7",
   "metadata": {},
   "outputs": [],
   "source": []
  },
  {
   "cell_type": "code",
   "execution_count": null,
   "id": "52f5b778-c145-4bd3-bc84-ef18137f122b",
   "metadata": {},
   "outputs": [],
   "source": []
  },
  {
   "cell_type": "code",
   "execution_count": null,
   "id": "85a4a2ac-0725-4516-b648-c051060be5a3",
   "metadata": {},
   "outputs": [],
   "source": []
  },
  {
   "cell_type": "code",
   "execution_count": null,
   "id": "4203a301-8f4d-42cb-a83b-0a2be453f69b",
   "metadata": {},
   "outputs": [],
   "source": []
  },
  {
   "cell_type": "code",
   "execution_count": null,
   "id": "b7fa3726-93ad-485b-9e1c-3f8e59c972f6",
   "metadata": {},
   "outputs": [],
   "source": []
  },
  {
   "cell_type": "code",
   "execution_count": null,
   "id": "2559eaae-30e8-4129-a2d9-ab31f7c24c17",
   "metadata": {},
   "outputs": [],
   "source": []
  },
  {
   "cell_type": "code",
   "execution_count": null,
   "id": "85177f0a-974a-4658-bb40-dfa97a59ffd7",
   "metadata": {},
   "outputs": [],
   "source": []
  },
  {
   "cell_type": "code",
   "execution_count": null,
   "id": "d48faace-6872-40d1-8c42-5e3bc5685e1e",
   "metadata": {},
   "outputs": [],
   "source": []
  },
  {
   "cell_type": "code",
   "execution_count": null,
   "id": "b5e681b5-0af3-4b09-92bf-aec205050ba5",
   "metadata": {},
   "outputs": [],
   "source": []
  },
  {
   "cell_type": "code",
   "execution_count": null,
   "id": "5d419681-6944-449b-8409-59c485edd4b1",
   "metadata": {},
   "outputs": [],
   "source": []
  },
  {
   "cell_type": "code",
   "execution_count": null,
   "id": "622d171c-b6ca-4cbf-b745-9ed9a21af322",
   "metadata": {},
   "outputs": [],
   "source": []
  },
  {
   "cell_type": "code",
   "execution_count": null,
   "id": "1a9b86fe-2190-4d44-8505-63aef4428ff1",
   "metadata": {},
   "outputs": [],
   "source": []
  },
  {
   "cell_type": "code",
   "execution_count": null,
   "id": "66643542-1b99-477d-81ce-ec7e3e4e7ac0",
   "metadata": {},
   "outputs": [],
   "source": []
  },
  {
   "cell_type": "code",
   "execution_count": null,
   "id": "dfbe4ab7-d591-49d6-968c-f05a99598883",
   "metadata": {},
   "outputs": [],
   "source": []
  },
  {
   "cell_type": "code",
   "execution_count": null,
   "id": "eef971fd-4208-4ae4-afb7-6fb77310f1ed",
   "metadata": {},
   "outputs": [],
   "source": []
  },
  {
   "cell_type": "code",
   "execution_count": null,
   "id": "c1d3fbf0-64b9-4e9d-927e-ae2ab1a05971",
   "metadata": {},
   "outputs": [],
   "source": []
  },
  {
   "cell_type": "code",
   "execution_count": null,
   "id": "2fecc45e-70e1-4d2b-a62e-8ba65a54444a",
   "metadata": {},
   "outputs": [],
   "source": []
  },
  {
   "cell_type": "code",
   "execution_count": null,
   "id": "fc6ea6e1-e885-438b-9c90-23dd9e041489",
   "metadata": {},
   "outputs": [],
   "source": []
  },
  {
   "cell_type": "code",
   "execution_count": null,
   "id": "4a7d4a37-aac3-40f7-bc16-266c1440b941",
   "metadata": {},
   "outputs": [],
   "source": []
  },
  {
   "cell_type": "code",
   "execution_count": null,
   "id": "c0a451a0-3a56-445e-807a-52c3b7a47b6a",
   "metadata": {},
   "outputs": [],
   "source": []
  },
  {
   "cell_type": "code",
   "execution_count": null,
   "id": "26bf7021-4a9a-4ac3-9fec-6a734eefdae8",
   "metadata": {},
   "outputs": [],
   "source": []
  },
  {
   "cell_type": "code",
   "execution_count": null,
   "id": "0492ca91-4839-4cff-be91-829850d442d5",
   "metadata": {},
   "outputs": [],
   "source": []
  },
  {
   "cell_type": "code",
   "execution_count": null,
   "id": "36f809d0-88c9-487b-91cd-53b4f5e81fb2",
   "metadata": {},
   "outputs": [],
   "source": []
  },
  {
   "cell_type": "code",
   "execution_count": null,
   "id": "705db742-bf36-421c-a909-2f141245c329",
   "metadata": {},
   "outputs": [],
   "source": []
  },
  {
   "cell_type": "code",
   "execution_count": null,
   "id": "866a9b7d-9a7d-497a-bc33-d5f42b395734",
   "metadata": {},
   "outputs": [],
   "source": []
  },
  {
   "cell_type": "code",
   "execution_count": null,
   "id": "373900f2-1133-4966-a049-4a3368b9470a",
   "metadata": {},
   "outputs": [],
   "source": []
  },
  {
   "cell_type": "code",
   "execution_count": null,
   "id": "943f33d7-49dd-4de8-8b2f-505f14c05d20",
   "metadata": {},
   "outputs": [],
   "source": []
  },
  {
   "cell_type": "code",
   "execution_count": null,
   "id": "610b4868-704b-4668-aa84-f33e57d8d5ab",
   "metadata": {},
   "outputs": [],
   "source": []
  },
  {
   "cell_type": "code",
   "execution_count": null,
   "id": "2ca33081-88a6-49ff-8839-ebf0d4f489e5",
   "metadata": {},
   "outputs": [],
   "source": []
  },
  {
   "cell_type": "code",
   "execution_count": null,
   "id": "1c59d01c-08a3-476a-bff8-ed750dd43b26",
   "metadata": {},
   "outputs": [],
   "source": []
  },
  {
   "cell_type": "code",
   "execution_count": null,
   "id": "a1468156-f52f-4300-8d60-8d40962b9d1f",
   "metadata": {},
   "outputs": [],
   "source": []
  },
  {
   "cell_type": "code",
   "execution_count": null,
   "id": "0cdc9442-3109-4477-9dc4-ccf3210b5989",
   "metadata": {},
   "outputs": [],
   "source": []
  },
  {
   "cell_type": "code",
   "execution_count": null,
   "id": "6432fab0-eeda-4475-864a-85d8f7702d82",
   "metadata": {},
   "outputs": [],
   "source": []
  },
  {
   "cell_type": "code",
   "execution_count": null,
   "id": "a7c637cf-18c0-407c-ad19-4c78a771b3a5",
   "metadata": {},
   "outputs": [],
   "source": []
  },
  {
   "cell_type": "code",
   "execution_count": null,
   "id": "1979b990-f7b7-42d9-a87b-c6e53873c1e3",
   "metadata": {},
   "outputs": [],
   "source": []
  },
  {
   "cell_type": "code",
   "execution_count": null,
   "id": "399746f8-e1d3-46d9-8e7d-61f52b89a3be",
   "metadata": {},
   "outputs": [],
   "source": []
  },
  {
   "cell_type": "code",
   "execution_count": null,
   "id": "71562537-f637-4a1d-940a-563445ccd92c",
   "metadata": {},
   "outputs": [],
   "source": []
  },
  {
   "cell_type": "code",
   "execution_count": null,
   "id": "68ac1289-a22d-4a95-a1c3-47dd22d53e71",
   "metadata": {},
   "outputs": [],
   "source": []
  },
  {
   "cell_type": "code",
   "execution_count": null,
   "id": "259109b2-1a1c-4454-9ba0-50ef6dac9e21",
   "metadata": {},
   "outputs": [],
   "source": []
  },
  {
   "cell_type": "code",
   "execution_count": null,
   "id": "a90be2d3-6a3f-4a0b-8777-3ce9532fc724",
   "metadata": {},
   "outputs": [],
   "source": []
  },
  {
   "cell_type": "code",
   "execution_count": null,
   "id": "68cd2a42-e352-4652-9b59-6c452f0b7332",
   "metadata": {},
   "outputs": [],
   "source": []
  },
  {
   "cell_type": "code",
   "execution_count": null,
   "id": "5adf6633-422a-4ecb-9762-40f419676725",
   "metadata": {},
   "outputs": [],
   "source": []
  },
  {
   "cell_type": "code",
   "execution_count": null,
   "id": "9b8fd19f-a976-4931-b97f-4bc53381d040",
   "metadata": {},
   "outputs": [],
   "source": []
  }
 ],
 "metadata": {
  "kernelspec": {
   "display_name": "Python 3 (ipykernel)",
   "language": "python",
   "name": "python3"
  },
  "language_info": {
   "codemirror_mode": {
    "name": "ipython",
    "version": 3
   },
   "file_extension": ".py",
   "mimetype": "text/x-python",
   "name": "python",
   "nbconvert_exporter": "python",
   "pygments_lexer": "ipython3",
   "version": "3.8.18"
  }
 },
 "nbformat": 4,
 "nbformat_minor": 5
}
